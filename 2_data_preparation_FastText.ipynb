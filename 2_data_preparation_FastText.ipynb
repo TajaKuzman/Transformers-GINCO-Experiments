{
 "cells": [
  {
   "cell_type": "markdown",
   "metadata": {},
   "source": [
    "This notebook will prepare the data in fasttext format, including preparing the data with just paragraphs to be kept."
   ]
  },
  {
   "cell_type": "code",
   "execution_count": 1,
   "metadata": {},
   "outputs": [],
   "source": [
    "interim_dir = \"/home/peterr/macocu/task5_webgenres/data/interim\"\n",
    "\n",
    "import os\n",
    "import pandas as pd\n",
    "\n",
    "test = pd.read_csv(os.path.join(interim_dir, \"test_1d.csv\"))\n",
    "train = pd.read_csv(os.path.join(interim_dir, \"train_1d.csv\"))\n",
    "dev = pd.read_csv(os.path.join(interim_dir, \"dev_1d.csv\"))"
   ]
  },
  {
   "cell_type": "code",
   "execution_count": 2,
   "metadata": {},
   "outputs": [
    {
     "data": {
      "text/plain": [
       "['Announcement',\n",
       " 'Call',\n",
       " 'Correspondence',\n",
       " 'Forum',\n",
       " 'Information/Explanation',\n",
       " 'Instruction',\n",
       " 'Interview',\n",
       " 'Invitation',\n",
       " 'Legal/Regulation',\n",
       " 'List of Summaries/Excerpts',\n",
       " 'News/Reporting',\n",
       " 'Opinion/Argumentation',\n",
       " 'Opinionated News',\n",
       " 'Other',\n",
       " 'Promotion',\n",
       " 'Promotion of Services',\n",
       " 'Promotion of a Product',\n",
       " 'Prose',\n",
       " 'Recipe',\n",
       " 'Research Article',\n",
       " 'Review']"
      ]
     },
     "execution_count": 2,
     "metadata": {},
     "output_type": "execute_result"
    }
   ],
   "source": [
    "sorted(train.primary.unique())"
   ]
  },
  {
   "cell_type": "markdown",
   "metadata": {},
   "source": [
    "For fasttext current labels won't do. Spaces will be replaced with underscores."
   ]
  },
  {
   "cell_type": "code",
   "execution_count": 5,
   "metadata": {},
   "outputs": [
    {
     "data": {
      "text/plain": [
       "array(['Information/Explanation', 'Opinion/Argumentation',\n",
       "       'Promotion_of_a_Product', 'List_of_Summaries/Excerpts',\n",
       "       'Promotion_of_Services', 'News/Reporting', 'Opinionated_News',\n",
       "       'Announcement', 'Invitation', 'Instruction', 'Forum', 'Prose',\n",
       "       'Recipe', 'Other', 'Legal/Regulation', 'Promotion', 'Review',\n",
       "       'Interview', 'Call', 'Correspondence', 'Research_Article'],\n",
       "      dtype=object)"
      ]
     },
     "execution_count": 5,
     "metadata": {},
     "output_type": "execute_result"
    }
   ],
   "source": [
    "for df in [test, train, dev]:\n",
    "    df[\"primary\"] = df.primary.str.replace(\" \", \"_\")\n",
    "    df[\"secondary\"] = df.secondary.str.replace(\" \", \"_\")\n",
    "train.primary.unique()"
   ]
  },
  {
   "cell_type": "markdown",
   "metadata": {},
   "source": [
    "# Data preparation for the first experiment\n",
    "\n",
    "For first experimen we want to prepare data with only primary labels. We need train, dev, and test data in two versions, all of it and a subset of it where keep == True.\n",
    "\n",
    "Data will be read from dataframes and saved into delegated text files, which fasttext can read.\n"
   ]
  },
  {
   "cell_type": "code",
   "execution_count": 7,
   "metadata": {},
   "outputs": [],
   "source": [
    "def parse_df(df, \n",
    "            only_keep=False, \n",
    "            only_primary=True,\n",
    "            only_no_duplicates=False):\n",
    "    import ast\n",
    "    filecontent = \"\"\n",
    "    for primary, secondary, paragraphs in df.loc[:, [\"primary\", \"secondary\", \"paragraphs\"]].values:\n",
    "        paragraphs = ast.literal_eval(paragraphs)\n",
    "        if only_keep == True:\n",
    "            paragraphs = [item for item in paragraphs if item[\"keep\"]==True]\n",
    "        if only_no_duplicates == True:\n",
    "            paragraphs = [item for item in paragraphs if item[\"duplicate\"]==False]\n",
    "        text = \" <p/> \".join([i[\"text\"].replace(\"\\n\", \" \") for i in paragraphs])\n",
    "        prim_label = f\"__label__{primary}\"\n",
    "        sec_label =  f\"__label__{secondary if pd.isna(secondary)!= True else primary}\"\n",
    "        filecontent += f\"\"\"{prim_label} {text}\\n{prim_label} {text}\\n{prim_label if only_primary else sec_label} {text}\\n\"\"\"\n",
    "    return filecontent\n",
    "\n",
    "final_path = \"/home/peterr/macocu/task5_webgenres/data/final/fasttext4\"\n",
    "dfdict = dict(test=test, dev=dev, train=train)\n",
    "\n",
    "for deduplicate in [True]:\n",
    "    for only_primary in [True, False]:\n",
    "        for segment in [\"dev\", \"train\", \"test\"]:\n",
    "            for only_keep in [False]:\n",
    "                filename = f\"{segment}_onlyprimary_{only_primary}_dedup_{deduplicate}_only_keep_{only_keep}.fasttext\"\n",
    "                df = dfdict[segment]\n",
    "                content = parse_df(df, only_primary=only_primary, only_no_duplicates=deduplicate, only_keep=only_keep)\n",
    "                with open(os.path.join(final_path, filename), \"w\") as f:\n",
    "                    f.write(content)\n"
   ]
  },
  {
   "cell_type": "markdown",
   "metadata": {},
   "source": [
    "# Data preparation with KEEP tag in mind:"
   ]
  },
  {
   "cell_type": "code",
   "execution_count": 5,
   "metadata": {},
   "outputs": [],
   "source": [
    "def parse_df(df, \n",
    "            only_keep=False, \n",
    "            only_primary=True,\n",
    "            only_no_duplicates=False):\n",
    "    import ast\n",
    "    filecontent = \"\"\n",
    "    for primary, secondary, paragraphs in df.loc[:, [\"primary\", \"secondary\", \"paragraphs\"]].values:\n",
    "        paragraphs = ast.literal_eval(paragraphs)\n",
    "        if only_keep == True:\n",
    "            paragraphs = [item for item in paragraphs if item[\"keep\"]==True]\n",
    "        # if only_no_duplicates == True:\n",
    "        #     paragraphs = [item for item in paragraphs if item[\"duplicate\"]==False]\n",
    "        text = \" <p/> \".join([i[\"text\"].replace(\"\\n\", \" \") for i in paragraphs])\n",
    "        prim_label = f\"__label__{primary}\"\n",
    "        sec_label =  f\"__label__{secondary if pd.isna(secondary)!= True else primary}\"\n",
    "        filecontent += f\"\"\"{prim_label} {text}\\n{prim_label} {text}\\n{prim_label if only_primary else sec_label} {text}\\n\"\"\"\n",
    "    return filecontent\n",
    "\n",
    "final_path = \"/home/peterr/macocu/task5_webgenres/data/final/fasttext2\"\n",
    "dfdict = dict(test=test, dev=dev, train=train)\n",
    "\n",
    "for only_keep in [True, False]:\n",
    "    for only_primary in [True]:\n",
    "        for segment in [\"dev\", \"train\", \"test\"]:\n",
    "            df = dfdict[segment]\n",
    "            filename = f\"{segment}_onlyprimary_{only_primary}_only_keep_{only_keep}.fasttext\"\n",
    "            content = parse_df(df, only_primary=only_primary, only_keep=only_keep)\n",
    "            with open(os.path.join(final_path, filename), \"w\") as f:\n",
    "                f.write(content)\n"
   ]
  },
  {
   "cell_type": "markdown",
   "metadata": {},
   "source": [
    "# Data prep for second experiment"
   ]
  },
  {
   "cell_type": "code",
   "execution_count": 33,
   "metadata": {},
   "outputs": [],
   "source": [
    "def parse_df(df, \n",
    "            only_keep=False, \n",
    "            only_primary=True,\n",
    "            only_no_duplicates=False):\n",
    "    import ast\n",
    "    filecontent = \"\"\n",
    "    for primary, secondary, paragraphs in df.loc[:, [\"primary\", \"secondary\", \"paragraphs\"]].values:\n",
    "        paragraphs = ast.literal_eval(paragraphs)\n",
    "        if only_keep == True:\n",
    "            paragraphs = [item for item in paragraphs if item[\"keep\"]==True]\n",
    "        if only_no_duplicates == True:\n",
    "            paragraphs = [item for item in paragraphs if item[\"duplicate\"]==False]\n",
    "        if len(paragraphs) == 0:\n",
    "            continue\n",
    "        text = \" <p/> \".join([i[\"text\"].replace(\"\\n\", \" \") for i in paragraphs])\n",
    "        prim_label = f\"__label__{primary}\"\n",
    "        sec_label =  f\"__label__{secondary if pd.isna(secondary)!= True else primary}\"\n",
    "        filecontent += f\"\"\"{prim_label} {text}\\n{prim_label} {text}\\n{prim_label if only_primary else sec_label} {text}\\n\"\"\"\n",
    "    return filecontent\n",
    "\n",
    "final_path = \"/home/peterr/macocu/task5_webgenres/data/final/fasttext3\"\n",
    "dfdict = dict(test=test, dev=dev, train=train)\n",
    "\n",
    "segment = \"train\"\n",
    "only_primary = False\n",
    "only_keep = True\n",
    "deduplicate = False\n",
    "\n",
    "\n",
    "filename = f\"{segment}_onlyprimary_{only_primary}_dedup_{deduplicate}_only_keep_{only_keep}.fasttext\"\n",
    "df = dfdict[segment]\n",
    "content = parse_df(df, only_primary=only_primary, only_no_duplicates=deduplicate, only_keep=only_keep)\n",
    "with open(os.path.join(final_path, filename), \"w\") as f:\n",
    "    f.write(content)\n",
    "\n",
    "segment = \"test\"\n",
    "only_primary = False\n",
    "only_keep = False\n",
    "deduplicate = True\n",
    "\n",
    "\n",
    "filename = f\"{segment}_onlyprimary_{only_primary}_dedup_{deduplicate}_only_keep_{only_keep}.fasttext\"\n",
    "df = dfdict[segment]\n",
    "content = parse_df(df, only_primary=only_primary, only_no_duplicates=deduplicate, only_keep=only_keep)\n",
    "with open(os.path.join(final_path, filename), \"w\") as f:\n",
    "    f.write(content)"
   ]
  },
  {
   "cell_type": "code",
   "execution_count": null,
   "metadata": {},
   "outputs": [],
   "source": []
  }
 ],
 "metadata": {
  "interpreter": {
   "hash": "7f6f5766036ee03d059e365a942add07f79c17033585e9357ee8157d52fe6bb9"
  },
  "kernelspec": {
   "display_name": "Python 3.8.3 64-bit ('base': conda)",
   "name": "python3"
  },
  "language_info": {
   "codemirror_mode": {
    "name": "ipython",
    "version": 3
   },
   "file_extension": ".py",
   "mimetype": "text/x-python",
   "name": "python",
   "nbconvert_exporter": "python",
   "pygments_lexer": "ipython3",
   "version": "3.8.3"
  },
  "orig_nbformat": 4
 },
 "nbformat": 4,
 "nbformat_minor": 2
}
