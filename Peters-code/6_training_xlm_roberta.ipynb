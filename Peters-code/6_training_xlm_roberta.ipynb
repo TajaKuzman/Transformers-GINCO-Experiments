{
 "cells": [
  {
   "cell_type": "code",
   "execution_count": null,
   "metadata": {},
   "outputs": [],
   "source": [
    "import os\n",
    "import json\n",
    "import parse\n",
    "import fasttext\n",
    "import numpy as np\n",
    "import pandas as pd\n",
    "import matplotlib.pyplot as plt\n",
    "from utils import *\n",
    "from sklearn.metrics import f1_score\n",
    "datadir = \"/home/peterr/macocu/task5_webgenres/data/final/fasttext2\"\n",
    "\n",
    "dev_dd = os.path.join(datadir, \"dev_onlyprimary_True_dedup_True.fasttext\")\n",
    "test_dd = os.path.join(datadir, \"test_onlyprimary_True_dedup_True.fasttext\")\n",
    "train_dd = os.path.join(datadir, \"train_onlyprimary_True_dedup_True.fasttext\")\n",
    "\n",
    "\n",
    "for filename in [ train_dd,  test_dd,  dev_dd]:\n",
    "    try:\n",
    "        _ = parse_fasttext_file(filename)\n",
    "    except Exception as e:\n",
    "        raise e\n",
    "\n",
    "import pandas as pd\n",
    "\n",
    "results = list()\n",
    "\n",
    "\n",
    "dev_dd_df = parse_fasttext_file(dev_dd)\n",
    "test_dd_df = parse_fasttext_file(test_dd)\n",
    "train_dd_df = parse_fasttext_file(train_dd)\n",
    "\n",
    "\n",
    "\n",
    "for i in range(10):\n",
    "    print(\"Run \", i+1, \"of 10\")\n",
    "    model = train_model(train_dd_df)\n",
    "\n",
    "    rundict = eval_model(test_dd_df, model)\n",
    "    rundict[\"train\"] = \"xlm_dd\"\n",
    "    rundict[\"eval\"] = \"test_dd\"\n",
    "    results.append(rundict)\n",
    "\n",
    "    rundict = eval_model(dev_dd_df, model)\n",
    "    rundict[\"train\"] = \"xlm_dd\"\n",
    "    rundict[\"eval\"] = \"dev_dd\"\n",
    "    results.append(rundict)\n",
    "\n",
    "    devtest_dd_df = pd.concat([test_dd_df, dev_dd_df], ignore_index=True)\n",
    "\n",
    "    rundict = eval_model(devtest_dd_df, model)\n",
    "    rundict[\"train\"] = \"xlm_dd\"\n",
    "    rundict[\"eval\"] = \"devtest_dd\"\n",
    "    results.append(rundict)\n",
    "\n",
    "with open(\"backup_23_1.txt\", \"w\") as f:\n",
    "    json.dump(results, f)"
   ]
  },
  {
   "cell_type": "code",
   "execution_count": 5,
   "metadata": {},
   "outputs": [],
   "source": [
    "\n",
    "with open(\"backup_23_1.txt\", \"w\") as f:\n",
    "    json.dump(results, f)"
   ]
  },
  {
   "cell_type": "code",
   "execution_count": null,
   "metadata": {},
   "outputs": [],
   "source": []
  }
 ],
 "metadata": {
  "interpreter": {
   "hash": "7f6f5766036ee03d059e365a942add07f79c17033585e9357ee8157d52fe6bb9"
  },
  "kernelspec": {
   "display_name": "Python 3.8.3 64-bit ('base': conda)",
   "language": "python",
   "name": "python3"
  },
  "language_info": {
   "codemirror_mode": {
    "name": "ipython",
    "version": 3
   },
   "file_extension": ".py",
   "mimetype": "text/x-python",
   "name": "python",
   "nbconvert_exporter": "python",
   "pygments_lexer": "ipython3",
   "version": "3.8.3"
  },
  "orig_nbformat": 4
 },
 "nbformat": 4,
 "nbformat_minor": 2
}
