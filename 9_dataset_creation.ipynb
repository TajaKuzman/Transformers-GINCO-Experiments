{
 "cells": [
  {
   "cell_type": "code",
   "execution_count": 1,
   "metadata": {},
   "outputs": [],
   "source": [
    "import os\n",
    "import time\n",
    "import json\n",
    "import utils\n",
    "import parse\n",
    "import fasttext\n",
    "import numpy as np\n",
    "import pandas as pd\n",
    "from scipy import stats\n",
    "from sklearn.metrics import f1_score\n",
    "import matplotlib.pyplot as plt\n",
    "\n",
    "suitable_path = \"/home/peterr/macocu/task5_webgenres/data/original/dataset/dataset.json\"\n",
    "nonsuitable_path = \"/home/peterr/macocu/task5_webgenres/data/original/dataset/not_suitable_dataset.json\"\n",
    "\n",
    "train_path = \"/home/peterr/macocu/task5_webgenres/data/interim/train_1d.csv\"\n",
    "test_path = \"/home/peterr/macocu/task5_webgenres/data/interim/test_1d.csv\"\n",
    "dev_path = \"/home/peterr/macocu/task5_webgenres/data/interim/dev_1d.csv\"\n",
    "\n",
    "train_ids = pd.read_csv(train_path)[\"id\"].unique().tolist()\n",
    "test_ids = pd.read_csv(test_path)[\"id\"].unique().tolist()\n",
    "dev_ids = pd.read_csv(dev_path)[\"id\"].unique().tolist()\n",
    "\n",
    "\n",
    "with open(suitable_path) as f:\n",
    "    suitable_content = json.load(f)\n",
    "with open(nonsuitable_path) as f:\n",
    "    nonsuitable_content = json.load(f)\n",
    "\n",
    "def first_downcasting(s: str)->str:\n",
    "    first = {\"Script/Drama\":\"Other\", \"Lyrical\":\"Other\",\"FAQ\":\"Other\"}\n",
    "    return first.get(s, s)\n",
    "def second_downcasting(s: str)->str:\n",
    "    second = {\"Recipe\":\"Instruction\", \"Research Article\":\"Information/Explanation\", \"Review\":\"Opinion/Argumentation\", \"Promotion of Services\":\"Promotion\", \"Promotion of a Product\":\"Promotion\", \"Invitation\":\"Promotion\", \"Correspondence\":\"Other\", \"Prose\":\"Other\", \"Call\":\"Other\"}\n",
    "    return second.get(s, s)\n",
    "def get_domain(url:str) -> str:\n",
    "    pattern = \"{protocol}://{domain}/{rest}\"\n",
    "    p = parse.compile(pattern)\n",
    "    modified_pattern = \"{protocol}://{domain}/\"\n",
    "    mp = parse.compile(modified_pattern)\n",
    "\n",
    "    try:\n",
    "        parse_result = p.parse(url)\n",
    "        domain = parse_result[\"domain\"]\n",
    "    except TypeError:\n",
    "        parse_result = mp.parse(url)\n",
    "        domain = parse_result[\"domain\"]\n",
    "    return domain\n",
    "\n",
    "def assign_split(doc_id: str) -> str:\n",
    "    if doc_id in train_ids:\n",
    "        return \"train\"\n",
    "    elif doc_id in dev_ids:\n",
    "        return \"dev\"\n",
    "    elif doc_id in test_ids:\n",
    "        return \"test\"\n",
    "    else:\n",
    "        raise ValueError(f\"ID {doc_id} was not found in train, dev, or test split!\")\n",
    "\n"
   ]
  },
  {
   "cell_type": "code",
   "execution_count": 3,
   "metadata": {},
   "outputs": [
    {
     "name": "stdout",
     "output_type": "stream",
     "text": [
      "57\n"
     ]
    }
   ],
   "source": [
    "counter = 0\n",
    "for i in suitable_content:\n",
    "    if i[\"primary\"] == \"List of Summaries/Excerpts\":\n",
    "        if i[\"secondary\"] != \"\":\n",
    "            counter += 1\n",
    "print(counter)"
   ]
  },
  {
   "cell_type": "markdown",
   "metadata": {},
   "source": [
    "# Suitable DS"
   ]
  },
  {
   "cell_type": "code",
   "execution_count": 4,
   "metadata": {},
   "outputs": [],
   "source": [
    "typo_dict = {\n",
    "    \"Promotion of services\": \"Promotion of Services\",\n",
    "    \"Opinionated news\": \"Opinionated News\",\n",
    "    \"Research article\": \"Research Article\",\n",
    "    \"Promotion of a product\": \"Promotion of a Product\"\n",
    "}\n",
    "for doc in suitable_content:\n",
    "    # Manual intervention as agreed 2021-11-07:\n",
    "    if doc[\"primary\"] == \"List of Summaries/Excerpts\":\n",
    "        doc[\"secondary\"] = \"\"\n",
    "    # Adding downcasted labels\n",
    "    for label in \"primary,secondary,tertiary\".split(\",\"):\n",
    "        p = doc[label]\n",
    "        p = typo_dict.get(p, p)\n",
    "        doc[f\"{label}_level_1\"] = p\n",
    "        doc[f\"{label}_level_2\"] = first_downcasting(p)\n",
    "        doc[f\"{label}_level_3\"] = second_downcasting(first_downcasting(p))\n",
    "        del doc[label]\n",
    "    # Adding split\n",
    "    doc[\"split\"] = assign_split(doc[\"id\"])\n",
    "    # Adding domain:\n",
    "    doc[\"domain\"] = get_domain(doc[\"url\"])\n",
    "    \n",
    "    # Validation\n",
    "    assert len(doc[\"paragraphs\"]) > 0, \"Paragraphs is an empty list.\"\n",
    "    assert (doc[\"primary_level_2\"] in utils.list_of_categories_matrix) or (doc[\"primary_level_2\"] == \"\"), f\"Weird: {doc['primary_level_2']}\"\n",
    "    assert doc[\"url\"] != \"\" and isinstance(doc[\"url\"], str)\n",
    "\n",
    "\n",
    "\n"
   ]
  },
  {
   "cell_type": "markdown",
   "metadata": {},
   "source": [
    "Let's check the first element:"
   ]
  },
  {
   "cell_type": "code",
   "execution_count": 5,
   "metadata": {},
   "outputs": [
    {
     "data": {
      "text/plain": [
       "{'id': '3949',\n",
       " 'url': 'http://www.pomurje.si/aktualno/sport/zimska-liga-malega-nogometa/',\n",
       " 'crawled': '2014',\n",
       " 'hard': False,\n",
       " 'paragraphs': [{'text': 'Šport', 'duplicate': False, 'keep': True},\n",
       "  {'text': 'Zimska liga malega nogometa sobota, 12.02.2011',\n",
       "   'duplicate': False,\n",
       "   'keep': True},\n",
       "  {'text': 'avtor: Tonček Gider', 'duplicate': False, 'keep': True},\n",
       "  {'text': \"V 7. krogu zimske lige v malem nogometu v Križevcih pri Ljutomeru je v prvi ligi vodilni 100 plus iz Križevec izgubil s tretjo ekipo na lestvici Rock'n roll iz Križevec z rezultatom 1:2, druga na lestvici Top Finedika iz Križevec je bila poražena z ekipo Bar Milene iz Ključarovec z rezultatom 7:8. V drugi križevski ligi je vodilni Cafe del Mar iz Vučje vasi premagal Montažo Vrbnjak iz Stare Nove vasi z rezultatom 3:2.\",\n",
       "   'duplicate': False,\n",
       "   'keep': True},\n",
       "  {'text': 'oglasno sporočilo', 'duplicate': False, 'keep': True},\n",
       "  {'text': 'Ocena', 'duplicate': False, 'keep': True},\n",
       "  {'text': 'Komentiraj Za komentiranje ali ocenjevanje moraš biti registriran in prijavljen uporabnik. Registriraj se!',\n",
       "   'duplicate': True,\n",
       "   'keep': False}],\n",
       " 'primary_level_1': 'News/Reporting',\n",
       " 'primary_level_2': 'News/Reporting',\n",
       " 'primary_level_3': 'News/Reporting',\n",
       " 'secondary_level_1': '',\n",
       " 'secondary_level_2': '',\n",
       " 'secondary_level_3': '',\n",
       " 'tertiary_level_1': '',\n",
       " 'tertiary_level_2': '',\n",
       " 'tertiary_level_3': '',\n",
       " 'split': 'test',\n",
       " 'domain': 'www.pomurje.si'}"
      ]
     },
     "execution_count": 5,
     "metadata": {},
     "output_type": "execute_result"
    }
   ],
   "source": [
    "suitable_content[0]"
   ]
  },
  {
   "cell_type": "markdown",
   "metadata": {},
   "source": [
    "Creating the directory for the dataset"
   ]
  },
  {
   "cell_type": "code",
   "execution_count": 6,
   "metadata": {},
   "outputs": [
    {
     "name": "stdout",
     "output_type": "stream",
     "text": [
      "mkdir: cannot create directory ‘/home/peterr/macocu/task5_webgenres/data/finished_dataset’: File exists\n"
     ]
    }
   ],
   "source": [
    "!mkdir /home/peterr/macocu/task5_webgenres/data/finished_dataset"
   ]
  },
  {
   "cell_type": "markdown",
   "metadata": {},
   "source": [
    "Writing the results to a file:"
   ]
  },
  {
   "cell_type": "code",
   "execution_count": 7,
   "metadata": {},
   "outputs": [],
   "source": [
    "with open(\"/home/peterr/macocu/task5_webgenres/data/finished_dataset/suitable.json\", \"w\") as f:\n",
    "    json.dump(suitable_content, f)"
   ]
  },
  {
   "cell_type": "markdown",
   "metadata": {},
   "source": [
    "# Nonsuitable\n",
    "\n",
    "First we need to perform a train, dev, test split. We will perform a train:devtest split and then dev:test split. We will stratify the splitting by labels"
   ]
  },
  {
   "cell_type": "code",
   "execution_count": 49,
   "metadata": {},
   "outputs": [
    {
     "data": {
      "text/html": [
       "<div>\n",
       "<style scoped>\n",
       "    .dataframe tbody tr th:only-of-type {\n",
       "        vertical-align: middle;\n",
       "    }\n",
       "\n",
       "    .dataframe tbody tr th {\n",
       "        vertical-align: top;\n",
       "    }\n",
       "\n",
       "    .dataframe thead th {\n",
       "        text-align: right;\n",
       "    }\n",
       "</style>\n",
       "<table border=\"1\" class=\"dataframe\">\n",
       "  <thead>\n",
       "    <tr style=\"text-align: right;\">\n",
       "      <th></th>\n",
       "      <th>id</th>\n",
       "      <th>url</th>\n",
       "      <th>crawled</th>\n",
       "      <th>primary</th>\n",
       "      <th>secondary</th>\n",
       "      <th>paragraphs</th>\n",
       "    </tr>\n",
       "  </thead>\n",
       "  <tbody>\n",
       "    <tr>\n",
       "      <th>0</th>\n",
       "      <td>1237</td>\n",
       "      <td>http://www.sport-tv.si/d164779/Nogomet/Repreze...</td>\n",
       "      <td>2014</td>\n",
       "      <td>Encoding Issues</td>\n",
       "      <td></td>\n",
       "      <td>[{'text': 'Reprezentance', 'duplicate': False}...</td>\n",
       "    </tr>\n",
       "    <tr>\n",
       "      <th>1</th>\n",
       "      <td>3280</td>\n",
       "      <td>http://revija-prijatelj.rkc.si/032002.htm</td>\n",
       "      <td>2014</td>\n",
       "      <td>Too Long</td>\n",
       "      <td></td>\n",
       "      <td>[{'text': '\" Na načelih si boš samo zobe polom...</td>\n",
       "    </tr>\n",
       "    <tr>\n",
       "      <th>2</th>\n",
       "      <td>3274</td>\n",
       "      <td>http://www.sport-tv.si/contentList/Posts/13/to...</td>\n",
       "      <td>2014</td>\n",
       "      <td>Encoding Issues</td>\n",
       "      <td></td>\n",
       "      <td>[{'text': 'V zadnji tekmi 10. kola italijanske...</td>\n",
       "    </tr>\n",
       "    <tr>\n",
       "      <th>3</th>\n",
       "      <td>2992</td>\n",
       "      <td>http://www.telos.si/viewcast/niagara/gostream.htm</td>\n",
       "      <td>2014</td>\n",
       "      <td>Machine Translation</td>\n",
       "      <td></td>\n",
       "      <td>[{'text': 'Niagara GoStream - zajem in strujan...</td>\n",
       "    </tr>\n",
       "    <tr>\n",
       "      <th>4</th>\n",
       "      <td>3367</td>\n",
       "      <td>http://www.pcplus.si/periferija-in-dodatki/dod...</td>\n",
       "      <td>2014</td>\n",
       "      <td>Encoding Issues</td>\n",
       "      <td></td>\n",
       "      <td>[{'text': 'Opis izdelka:', 'duplicate': False}...</td>\n",
       "    </tr>\n",
       "  </tbody>\n",
       "</table>\n",
       "</div>"
      ],
      "text/plain": [
       "     id                                                url crawled  \\\n",
       "0  1237  http://www.sport-tv.si/d164779/Nogomet/Repreze...    2014   \n",
       "1  3280          http://revija-prijatelj.rkc.si/032002.htm    2014   \n",
       "2  3274  http://www.sport-tv.si/contentList/Posts/13/to...    2014   \n",
       "3  2992  http://www.telos.si/viewcast/niagara/gostream.htm    2014   \n",
       "4  3367  http://www.pcplus.si/periferija-in-dodatki/dod...    2014   \n",
       "\n",
       "               primary secondary  \\\n",
       "0      Encoding Issues             \n",
       "1             Too Long             \n",
       "2      Encoding Issues             \n",
       "3  Machine Translation             \n",
       "4      Encoding Issues             \n",
       "\n",
       "                                          paragraphs  \n",
       "0  [{'text': 'Reprezentance', 'duplicate': False}...  \n",
       "1  [{'text': '\" Na načelih si boš samo zobe polom...  \n",
       "2  [{'text': 'V zadnji tekmi 10. kola italijanske...  \n",
       "3  [{'text': 'Niagara GoStream - zajem in strujan...  \n",
       "4  [{'text': 'Opis izdelka:', 'duplicate': False}...  "
      ]
     },
     "execution_count": 49,
     "metadata": {},
     "output_type": "execute_result"
    }
   ],
   "source": [
    "df = pd.DataFrame(nonsuitable_content)\n",
    "df.head()"
   ]
  },
  {
   "cell_type": "code",
   "execution_count": 53,
   "metadata": {},
   "outputs": [
    {
     "ename": "ValueError",
     "evalue": "The least populated class in y has only 1 member, which is too few. The minimum number of groups for any class cannot be less than 2.",
     "output_type": "error",
     "traceback": [
      "\u001b[0;31m---------------------------------------------------------------------------\u001b[0m",
      "\u001b[0;31mValueError\u001b[0m                                Traceback (most recent call last)",
      "\u001b[0;32m<ipython-input-53-7abc6dbad317>\u001b[0m in \u001b[0;36m<module>\u001b[0;34m\u001b[0m\n\u001b[1;32m      2\u001b[0m \u001b[0;34m\u001b[0m\u001b[0m\n\u001b[1;32m      3\u001b[0m \u001b[0mtrain\u001b[0m\u001b[0;34m,\u001b[0m \u001b[0mdevtest\u001b[0m \u001b[0;34m=\u001b[0m \u001b[0mtrain_test_split\u001b[0m\u001b[0;34m(\u001b[0m\u001b[0mdf\u001b[0m\u001b[0;34m,\u001b[0m \u001b[0mtest_size\u001b[0m\u001b[0;34m=\u001b[0m\u001b[0;36m0.4\u001b[0m\u001b[0;34m,\u001b[0m \u001b[0mrandom_state\u001b[0m\u001b[0;34m=\u001b[0m\u001b[0;36m44\u001b[0m\u001b[0;34m,\u001b[0m \u001b[0mstratify\u001b[0m\u001b[0;34m=\u001b[0m\u001b[0mdf\u001b[0m\u001b[0;34m.\u001b[0m\u001b[0mprimary\u001b[0m\u001b[0;34m)\u001b[0m\u001b[0;34m\u001b[0m\u001b[0;34m\u001b[0m\u001b[0m\n\u001b[0;32m----> 4\u001b[0;31m \u001b[0mtest\u001b[0m\u001b[0;34m,\u001b[0m \u001b[0mdev\u001b[0m \u001b[0;34m=\u001b[0m \u001b[0mtrain_test_split\u001b[0m\u001b[0;34m(\u001b[0m\u001b[0mdevtest\u001b[0m\u001b[0;34m,\u001b[0m \u001b[0mtest_size\u001b[0m\u001b[0;34m=\u001b[0m\u001b[0;36m0.5\u001b[0m\u001b[0;34m,\u001b[0m \u001b[0mrandom_state\u001b[0m\u001b[0;34m=\u001b[0m\u001b[0;36m100\u001b[0m\u001b[0;34m,\u001b[0m \u001b[0mstratify\u001b[0m\u001b[0;34m=\u001b[0m\u001b[0mdevtest\u001b[0m\u001b[0;34m.\u001b[0m\u001b[0mprimary\u001b[0m\u001b[0;34m)\u001b[0m\u001b[0;34m\u001b[0m\u001b[0;34m\u001b[0m\u001b[0m\n\u001b[0m\u001b[1;32m      5\u001b[0m \u001b[0;34m\u001b[0m\u001b[0m\n\u001b[1;32m      6\u001b[0m \u001b[0mtrain\u001b[0m\u001b[0;34m[\u001b[0m\u001b[0;34m\"split\"\u001b[0m\u001b[0;34m]\u001b[0m \u001b[0;34m=\u001b[0m \u001b[0;34m\"train\"\u001b[0m\u001b[0;34m\u001b[0m\u001b[0;34m\u001b[0m\u001b[0m\n",
      "\u001b[0;32m~/anaconda3/lib/python3.8/site-packages/sklearn/model_selection/_split.py\u001b[0m in \u001b[0;36mtrain_test_split\u001b[0;34m(*arrays, **options)\u001b[0m\n\u001b[1;32m   2150\u001b[0m                      random_state=random_state)\n\u001b[1;32m   2151\u001b[0m \u001b[0;34m\u001b[0m\u001b[0m\n\u001b[0;32m-> 2152\u001b[0;31m         \u001b[0mtrain\u001b[0m\u001b[0;34m,\u001b[0m \u001b[0mtest\u001b[0m \u001b[0;34m=\u001b[0m \u001b[0mnext\u001b[0m\u001b[0;34m(\u001b[0m\u001b[0mcv\u001b[0m\u001b[0;34m.\u001b[0m\u001b[0msplit\u001b[0m\u001b[0;34m(\u001b[0m\u001b[0mX\u001b[0m\u001b[0;34m=\u001b[0m\u001b[0marrays\u001b[0m\u001b[0;34m[\u001b[0m\u001b[0;36m0\u001b[0m\u001b[0;34m]\u001b[0m\u001b[0;34m,\u001b[0m \u001b[0my\u001b[0m\u001b[0;34m=\u001b[0m\u001b[0mstratify\u001b[0m\u001b[0;34m)\u001b[0m\u001b[0;34m)\u001b[0m\u001b[0;34m\u001b[0m\u001b[0;34m\u001b[0m\u001b[0m\n\u001b[0m\u001b[1;32m   2153\u001b[0m \u001b[0;34m\u001b[0m\u001b[0m\n\u001b[1;32m   2154\u001b[0m     return list(chain.from_iterable((_safe_indexing(a, train),\n",
      "\u001b[0;32m~/anaconda3/lib/python3.8/site-packages/sklearn/model_selection/_split.py\u001b[0m in \u001b[0;36msplit\u001b[0;34m(self, X, y, groups)\u001b[0m\n\u001b[1;32m   1339\u001b[0m         \"\"\"\n\u001b[1;32m   1340\u001b[0m         \u001b[0mX\u001b[0m\u001b[0;34m,\u001b[0m \u001b[0my\u001b[0m\u001b[0;34m,\u001b[0m \u001b[0mgroups\u001b[0m \u001b[0;34m=\u001b[0m \u001b[0mindexable\u001b[0m\u001b[0;34m(\u001b[0m\u001b[0mX\u001b[0m\u001b[0;34m,\u001b[0m \u001b[0my\u001b[0m\u001b[0;34m,\u001b[0m \u001b[0mgroups\u001b[0m\u001b[0;34m)\u001b[0m\u001b[0;34m\u001b[0m\u001b[0;34m\u001b[0m\u001b[0m\n\u001b[0;32m-> 1341\u001b[0;31m         \u001b[0;32mfor\u001b[0m \u001b[0mtrain\u001b[0m\u001b[0;34m,\u001b[0m \u001b[0mtest\u001b[0m \u001b[0;32min\u001b[0m \u001b[0mself\u001b[0m\u001b[0;34m.\u001b[0m\u001b[0m_iter_indices\u001b[0m\u001b[0;34m(\u001b[0m\u001b[0mX\u001b[0m\u001b[0;34m,\u001b[0m \u001b[0my\u001b[0m\u001b[0;34m,\u001b[0m \u001b[0mgroups\u001b[0m\u001b[0;34m)\u001b[0m\u001b[0;34m:\u001b[0m\u001b[0;34m\u001b[0m\u001b[0;34m\u001b[0m\u001b[0m\n\u001b[0m\u001b[1;32m   1342\u001b[0m             \u001b[0;32myield\u001b[0m \u001b[0mtrain\u001b[0m\u001b[0;34m,\u001b[0m \u001b[0mtest\u001b[0m\u001b[0;34m\u001b[0m\u001b[0;34m\u001b[0m\u001b[0m\n\u001b[1;32m   1343\u001b[0m \u001b[0;34m\u001b[0m\u001b[0m\n",
      "\u001b[0;32m~/anaconda3/lib/python3.8/site-packages/sklearn/model_selection/_split.py\u001b[0m in \u001b[0;36m_iter_indices\u001b[0;34m(self, X, y, groups)\u001b[0m\n\u001b[1;32m   1666\u001b[0m         \u001b[0mclass_counts\u001b[0m \u001b[0;34m=\u001b[0m \u001b[0mnp\u001b[0m\u001b[0;34m.\u001b[0m\u001b[0mbincount\u001b[0m\u001b[0;34m(\u001b[0m\u001b[0my_indices\u001b[0m\u001b[0;34m)\u001b[0m\u001b[0;34m\u001b[0m\u001b[0;34m\u001b[0m\u001b[0m\n\u001b[1;32m   1667\u001b[0m         \u001b[0;32mif\u001b[0m \u001b[0mnp\u001b[0m\u001b[0;34m.\u001b[0m\u001b[0mmin\u001b[0m\u001b[0;34m(\u001b[0m\u001b[0mclass_counts\u001b[0m\u001b[0;34m)\u001b[0m \u001b[0;34m<\u001b[0m \u001b[0;36m2\u001b[0m\u001b[0;34m:\u001b[0m\u001b[0;34m\u001b[0m\u001b[0;34m\u001b[0m\u001b[0m\n\u001b[0;32m-> 1668\u001b[0;31m             raise ValueError(\"The least populated class in y has only 1\"\n\u001b[0m\u001b[1;32m   1669\u001b[0m                              \u001b[0;34m\" member, which is too few. The minimum\"\u001b[0m\u001b[0;34m\u001b[0m\u001b[0;34m\u001b[0m\u001b[0m\n\u001b[1;32m   1670\u001b[0m                              \u001b[0;34m\" number of groups for any class cannot\"\u001b[0m\u001b[0;34m\u001b[0m\u001b[0;34m\u001b[0m\u001b[0m\n",
      "\u001b[0;31mValueError\u001b[0m: The least populated class in y has only 1 member, which is too few. The minimum number of groups for any class cannot be less than 2."
     ]
    }
   ],
   "source": [
    "from sklearn.model_selection import train_test_split\n",
    "\n",
    "train, devtest = train_test_split(df, test_size=0.4, random_state=44, stratify=df.primary)\n",
    "test, dev = train_test_split(devtest, test_size=0.5, random_state=100, stratify=devtest.primary)\n",
    "\n",
    "train[\"split\"] = \"train\"\n",
    "dev[\"split\"] = \"dev\"\n",
    "test[\"split\"] = \"test\"\n",
    "\n",
    "df = pd.concat([train, dev, test], ignore_index=True)\n",
    "df.head()\n"
   ]
  },
  {
   "cell_type": "markdown",
   "metadata": {},
   "source": [
    "## Solution: put the unsplittable labels in TEST (as agreed in Skype meeting 2021-11-25T13:57:08)."
   ]
  },
  {
   "cell_type": "code",
   "execution_count": 65,
   "metadata": {},
   "outputs": [
    {
     "data": {
      "text/html": [
       "<div>\n",
       "<style scoped>\n",
       "    .dataframe tbody tr th:only-of-type {\n",
       "        vertical-align: middle;\n",
       "    }\n",
       "\n",
       "    .dataframe tbody tr th {\n",
       "        vertical-align: top;\n",
       "    }\n",
       "\n",
       "    .dataframe thead th {\n",
       "        text-align: right;\n",
       "    }\n",
       "</style>\n",
       "<table border=\"1\" class=\"dataframe\">\n",
       "  <thead>\n",
       "    <tr style=\"text-align: right;\">\n",
       "      <th></th>\n",
       "      <th>id</th>\n",
       "      <th>url</th>\n",
       "      <th>crawled</th>\n",
       "      <th>secondary</th>\n",
       "      <th>paragraphs</th>\n",
       "    </tr>\n",
       "    <tr>\n",
       "      <th>primary</th>\n",
       "      <th></th>\n",
       "      <th></th>\n",
       "      <th></th>\n",
       "      <th></th>\n",
       "      <th></th>\n",
       "    </tr>\n",
       "  </thead>\n",
       "  <tbody>\n",
       "    <tr>\n",
       "      <th>Boilerplate</th>\n",
       "      <td>1</td>\n",
       "      <td>1</td>\n",
       "      <td>1</td>\n",
       "      <td>1</td>\n",
       "      <td>1</td>\n",
       "    </tr>\n",
       "    <tr>\n",
       "      <th>Encoding Issues</th>\n",
       "      <td>3</td>\n",
       "      <td>3</td>\n",
       "      <td>3</td>\n",
       "      <td>3</td>\n",
       "      <td>3</td>\n",
       "    </tr>\n",
       "    <tr>\n",
       "      <th>Generated Text</th>\n",
       "      <td>1</td>\n",
       "      <td>1</td>\n",
       "      <td>1</td>\n",
       "      <td>1</td>\n",
       "      <td>1</td>\n",
       "    </tr>\n",
       "    <tr>\n",
       "      <th>HTML Source Code</th>\n",
       "      <td>1</td>\n",
       "      <td>1</td>\n",
       "      <td>1</td>\n",
       "      <td>1</td>\n",
       "      <td>1</td>\n",
       "    </tr>\n",
       "    <tr>\n",
       "      <th>Machine Translation</th>\n",
       "      <td>9</td>\n",
       "      <td>9</td>\n",
       "      <td>9</td>\n",
       "      <td>9</td>\n",
       "      <td>9</td>\n",
       "    </tr>\n",
       "    <tr>\n",
       "      <th>Multiple Texts</th>\n",
       "      <td>3</td>\n",
       "      <td>3</td>\n",
       "      <td>3</td>\n",
       "      <td>3</td>\n",
       "      <td>3</td>\n",
       "    </tr>\n",
       "    <tr>\n",
       "      <th>Non-textual</th>\n",
       "      <td>14</td>\n",
       "      <td>14</td>\n",
       "      <td>14</td>\n",
       "      <td>14</td>\n",
       "      <td>14</td>\n",
       "    </tr>\n",
       "    <tr>\n",
       "      <th>Not Slovene</th>\n",
       "      <td>7</td>\n",
       "      <td>7</td>\n",
       "      <td>7</td>\n",
       "      <td>7</td>\n",
       "      <td>7</td>\n",
       "    </tr>\n",
       "    <tr>\n",
       "      <th>Too Long</th>\n",
       "      <td>2</td>\n",
       "      <td>2</td>\n",
       "      <td>2</td>\n",
       "      <td>2</td>\n",
       "      <td>2</td>\n",
       "    </tr>\n",
       "    <tr>\n",
       "      <th>Too Short/Incoherent</th>\n",
       "      <td>9</td>\n",
       "      <td>9</td>\n",
       "      <td>9</td>\n",
       "      <td>9</td>\n",
       "      <td>9</td>\n",
       "    </tr>\n",
       "  </tbody>\n",
       "</table>\n",
       "</div>"
      ],
      "text/plain": [
       "                      id  url  crawled  secondary  paragraphs\n",
       "primary                                                      \n",
       "Boilerplate            1    1        1          1           1\n",
       "Encoding Issues        3    3        3          3           3\n",
       "Generated Text         1    1        1          1           1\n",
       "HTML Source Code       1    1        1          1           1\n",
       "Machine Translation    9    9        9          9           9\n",
       "Multiple Texts         3    3        3          3           3\n",
       "Non-textual           14   14       14         14          14\n",
       "Not Slovene            7    7        7          7           7\n",
       "Too Long               2    2        2          2           2\n",
       "Too Short/Incoherent   9    9        9          9           9"
      ]
     },
     "execution_count": 65,
     "metadata": {},
     "output_type": "execute_result"
    }
   ],
   "source": [
    "dtgb = devtest.groupby(\"primary\").count()\n",
    "dtgb"
   ]
  },
  {
   "cell_type": "markdown",
   "metadata": {},
   "source": [
    "Let's determine which labels are unsplittable:"
   ]
  },
  {
   "cell_type": "code",
   "execution_count": 66,
   "metadata": {},
   "outputs": [
    {
     "data": {
      "text/plain": [
       "Index(['Boilerplate', 'Generated Text', 'HTML Source Code'], dtype='object', name='primary')"
      ]
     },
     "execution_count": 66,
     "metadata": {},
     "output_type": "execute_result"
    }
   ],
   "source": [
    "dtgb = devtest.groupby(\"primary\").count()\n",
    "dtgb.loc[dtgb.url == 1].index"
   ]
  },
  {
   "cell_type": "code",
   "execution_count": 69,
   "metadata": {},
   "outputs": [
    {
     "name": "stderr",
     "output_type": "stream",
     "text": [
      "<ipython-input-69-b232c8353e78>:10: SettingWithCopyWarning: \n",
      "A value is trying to be set on a copy of a slice from a DataFrame.\n",
      "Try using .loc[row_indexer,col_indexer] = value instead\n",
      "\n",
      "See the caveats in the documentation: https://pandas.pydata.org/pandas-docs/stable/user_guide/indexing.html#returning-a-view-versus-a-copy\n",
      "  train[\"split\"] = \"train\"\n",
      "<ipython-input-69-b232c8353e78>:11: SettingWithCopyWarning: \n",
      "A value is trying to be set on a copy of a slice from a DataFrame.\n",
      "Try using .loc[row_indexer,col_indexer] = value instead\n",
      "\n",
      "See the caveats in the documentation: https://pandas.pydata.org/pandas-docs/stable/user_guide/indexing.html#returning-a-view-versus-a-copy\n",
      "  dev[\"split\"] = \"dev\"\n"
     ]
    },
    {
     "data": {
      "text/html": [
       "<div>\n",
       "<style scoped>\n",
       "    .dataframe tbody tr th:only-of-type {\n",
       "        vertical-align: middle;\n",
       "    }\n",
       "\n",
       "    .dataframe tbody tr th {\n",
       "        vertical-align: top;\n",
       "    }\n",
       "\n",
       "    .dataframe thead th {\n",
       "        text-align: right;\n",
       "    }\n",
       "</style>\n",
       "<table border=\"1\" class=\"dataframe\">\n",
       "  <thead>\n",
       "    <tr style=\"text-align: right;\">\n",
       "      <th></th>\n",
       "      <th>id</th>\n",
       "      <th>url</th>\n",
       "      <th>crawled</th>\n",
       "      <th>primary</th>\n",
       "      <th>secondary</th>\n",
       "      <th>paragraphs</th>\n",
       "      <th>split</th>\n",
       "    </tr>\n",
       "  </thead>\n",
       "  <tbody>\n",
       "    <tr>\n",
       "      <th>0</th>\n",
       "      <td>1237</td>\n",
       "      <td>http://www.sport-tv.si/d164779/Nogomet/Repreze...</td>\n",
       "      <td>2014</td>\n",
       "      <td>Encoding Issues</td>\n",
       "      <td></td>\n",
       "      <td>[{'text': 'Reprezentance', 'duplicate': False}...</td>\n",
       "      <td>train</td>\n",
       "    </tr>\n",
       "    <tr>\n",
       "      <th>1</th>\n",
       "      <td>486846</td>\n",
       "      <td>https://trgovina.troika.si/brother-toner?p=2</td>\n",
       "      <td>2021</td>\n",
       "      <td>Non-textual</td>\n",
       "      <td></td>\n",
       "      <td>[{'text': 'Brezplačna dostava za vsa naročila....</td>\n",
       "      <td>train</td>\n",
       "    </tr>\n",
       "    <tr>\n",
       "      <th>2</th>\n",
       "      <td>32960728</td>\n",
       "      <td>http://sl.zd-grosuplje.si/dejavnosti-in-sluzbe...</td>\n",
       "      <td>2021</td>\n",
       "      <td>Non-textual</td>\n",
       "      <td></td>\n",
       "      <td>[{'text': 'Tinkara TRKAJ, dr. med., spec. pedi...</td>\n",
       "      <td>train</td>\n",
       "    </tr>\n",
       "    <tr>\n",
       "      <th>3</th>\n",
       "      <td>10710263</td>\n",
       "      <td>http://fonti.gifmania.si/L-Fonti/Loveness.htm</td>\n",
       "      <td>2021</td>\n",
       "      <td>Machine Translation</td>\n",
       "      <td></td>\n",
       "      <td>[{'text': 'Loveness', 'duplicate': False}, {'t...</td>\n",
       "      <td>train</td>\n",
       "    </tr>\n",
       "    <tr>\n",
       "      <th>4</th>\n",
       "      <td>3776987</td>\n",
       "      <td>http://locutio.si/avtorji.php?ID=145</td>\n",
       "      <td>2021</td>\n",
       "      <td>Non-textual</td>\n",
       "      <td></td>\n",
       "      <td>[{'text': 'Dušan Ludvik', 'duplicate': False},...</td>\n",
       "      <td>train</td>\n",
       "    </tr>\n",
       "  </tbody>\n",
       "</table>\n",
       "</div>"
      ],
      "text/plain": [
       "         id                                                url crawled  \\\n",
       "0      1237  http://www.sport-tv.si/d164779/Nogomet/Repreze...    2014   \n",
       "1    486846       https://trgovina.troika.si/brother-toner?p=2    2021   \n",
       "2  32960728  http://sl.zd-grosuplje.si/dejavnosti-in-sluzbe...    2021   \n",
       "3  10710263      http://fonti.gifmania.si/L-Fonti/Loveness.htm    2021   \n",
       "4   3776987               http://locutio.si/avtorji.php?ID=145    2021   \n",
       "\n",
       "               primary secondary  \\\n",
       "0      Encoding Issues             \n",
       "1          Non-textual             \n",
       "2          Non-textual             \n",
       "3  Machine Translation             \n",
       "4          Non-textual             \n",
       "\n",
       "                                          paragraphs  split  \n",
       "0  [{'text': 'Reprezentance', 'duplicate': False}...  train  \n",
       "1  [{'text': 'Brezplačna dostava za vsa naročila....  train  \n",
       "2  [{'text': 'Tinkara TRKAJ, dr. med., spec. pedi...  train  \n",
       "3  [{'text': 'Loveness', 'duplicate': False}, {'t...  train  \n",
       "4  [{'text': 'Dušan Ludvik', 'duplicate': False},...  train  "
      ]
     },
     "execution_count": 69,
     "metadata": {},
     "output_type": "execute_result"
    }
   ],
   "source": [
    "labels_to_put_in_test = ['Boilerplate', 'Generated Text', 'HTML Source Code']\n",
    "\n",
    "buffer = devtest.loc[devtest.primary.isin(labels_to_put_in_test),:].copy()\n",
    "devtest = devtest.loc[~devtest.primary.isin(labels_to_put_in_test),:].copy().reset_index(drop=True)\n",
    "test, dev = train_test_split(devtest, test_size=0.5, random_state=100, stratify=devtest.primary)\n",
    "\n",
    "\n",
    "test = pd.concat([test, buffer], ignore_index=True)\n",
    "\n",
    "train[\"split\"] = \"train\"\n",
    "dev[\"split\"] = \"dev\"\n",
    "test[\"split\"] = \"test\"\n",
    "\n",
    "df = pd.concat([train, dev, test], ignore_index=True)\n",
    "df.head()"
   ]
  },
  {
   "cell_type": "code",
   "execution_count": 70,
   "metadata": {},
   "outputs": [
    {
     "data": {
      "text/plain": [
       "(123, 7)"
      ]
     },
     "execution_count": 70,
     "metadata": {},
     "output_type": "execute_result"
    }
   ],
   "source": [
    "df.shape"
   ]
  },
  {
   "cell_type": "code",
   "execution_count": 84,
   "metadata": {},
   "outputs": [],
   "source": [
    "cols = df.columns\n",
    "nonsuitable_content = list()\n",
    "for row in df.iterrows():\n",
    "    doc = dict()\n",
    "    for col in cols:\n",
    "        doc[col] = row[1][col]\n",
    "    nonsuitable_content.append(doc)"
   ]
  },
  {
   "cell_type": "code",
   "execution_count": 85,
   "metadata": {},
   "outputs": [
    {
     "data": {
      "text/plain": [
       "{'id': '1237',\n",
       " 'url': 'http://www.sport-tv.si/d164779/Nogomet/Reprezentance/Gliha_Za_uspeh_bo_treba_umreti_in....html',\n",
       " 'crawled': '2014',\n",
       " 'primary': 'Encoding Issues',\n",
       " 'secondary': '',\n",
       " 'paragraphs': [{'text': 'Reprezentance', 'duplicate': False},\n",
       "  {'text': 'Gliha: Za uspeh bo treba \" umreti \" in...', 'duplicate': False},\n",
       "  {'text': 'Mladinska slovenska nogometna reprezentanca bo danes odigrala Å ¡ e zadnje sreÄanje v uvodnih kvalifikacijah za evropsko prvenstvo leta 2013, ki bo v Litvi. Äeta Primoža Glihe je v skupini 10 trenutno sicer na zadnjem mestu, toda ob primernem razpletu na obeh dvobojih tretjega kola (beri: zmagah Slovenije in Rusije) si Å ¡ e lahko zagotovi drugo mesto ter s tem napredovanje v zakljuÄni del bojev za sedem mest, ki bodo naposled vodila na turnir stare celine selekcij do 19 let.',\n",
       "   'duplicate': False},\n",
       "  {'text': '15. oktober 2012. ob 01:38 | zadnja sprememba: 15. oktober 2012. ob 01:56',\n",
       "   'duplicate': False},\n",
       "  {'text': 'V dosedanjem poteku turnirja, ki se odvija na naših tleh, bolje reÄeno v Bakovcih in Slovenski Bistrici, so mladeniÄi iz deželice na sonÄni strani Alp osvojili le toÄko, ki so si jo sicer priigrali (0:0) proti trenutno vodilnim Rusom (slednji so do zdaj zbrali štiri toÄke). V preostalem obraÄunu so namreÄ klonili pred Valižani in si s tem še kako otežili delo glede uvrstitve v naslednje kolo kvalifikacij. Toda kot smo že zapisali, za varovance 45-letnega strokovnjaka še ni vsega konec. Äe bi namreÄ uspeli danes v Slovenski Bistrici premagati Švede (tekma se bo zaÄela ob 15. uri), Rusi pa bi istoÄasno odpravili ValiÅ ¾ ane, bi se veselili zelo lepega uspeha, ki pred dvoboji štirih reprezentanc ni mogel biti naÄrtovan.',\n",
       "   'duplicate': False},\n",
       "  {'text': 'Varovanci Primoža Glihe po petkovem porazu za napredovanje potrebujejo zmago proti Švedom in hkrati tri toÄke Rusov',\n",
       "   'duplicate': False},\n",
       "  {'text': 'V mednarodnih krogih so namreÄ Rusi in Švedi nekako veljali za favorite v tej skupini, zaradi domaÄega igrišÄa pa so Slovenci seveda lahko upali na preseneÄenje. Toda slednje je nekoliko \" splahnelo \" po porazu proti Valižanom z 1:2. \" Ker je moje mlade varovance sreÄanje proti Rusom, ki so ga sicer odigrali zelo dobro, tudi v taktiÄnem pogledu, precej izÄrpalo, jim je za dvoboj proti Valižanom enostavno zmanjkalo energije. In ko je tako, vselej pride tudi do pomanjkanja koncentracije, kar se je tokrat zelo lepo videlo, saj nikakor nismo mogli zabiti vsaj izenaÄujoÄega zadetka. Ne morem reÄi, da se fantje niso trudili, da si niso Å ¾ eleli, toda glava jih tokrat paÄ ni ubogala, \" je v petek dejal Gliha.',\n",
       "   'duplicate': False},\n",
       "  {'text': 'Problem dveh zaporednih obraÄunov v 48 urah, ki je nadebudnežem odvzela moÄ, je torej spodrezal krila Slovencem, ki pa kljub temu zelo težko dosegajo gole. V 180 minutah niso bili v tem pogledu uspešni niti enkrat, kajti Valižani so pravzaprav sami premagali lastnega vratarja. \" NeuÄinkovitost napadalcev me sploh ne Äudi. Gre za napako v vzgoji, saj dandanes v mlajših selekcijah sploh veÄ nimamo klasiÄnih golgeterjev, kot sta Etien Velikonja ali Tim MatavÅ ¾. V Sloveniji namreÄ zdaj bolj kot ne ustvarjamo le še nekakšne boÄne igralce, tistih, ki bi morali dosegati zadetke in ki bi bili takrat, ko to morajo biti, v kazenskem prostoru, pa skoraj ni veÄ, \" je bil oster nekdanji trener številnih naših prvoligašev.',\n",
       "   'duplicate': False},\n",
       "  {'text': 'Slovenci proti Valižanom niso in niso mogli doseÄi vsaj izenaÄujoÄega gola',\n",
       "   'duplicate': False},\n",
       "  {'text': 'Kakorkoli Å ¾ e, slovenska mladinska reprezentanca je še povsem \" v igri \" za drugo mesto in s tem preboj v naslednje kolo kvalifikacij, toda za to potrebuje tudi pomoÄ Rusije, ki mora istoÄasno premagati Wales. \" Kako se bo odvijalo sreÄanje med Rusi in ValiÅ ¾ ani, niti ne moremo vedeti niti na to ne moremo vplivati. Naša naloga je, da proti Švedom pokažemo veÄ, kot smo nazadnje. Morali bomo biti 100-odstotni, 99 odstotkov ne bo dovolj za zmago. PraktiÄno bomo morali na zelenici \\' umreti \\' za uspeh. In Äetudi bo tako, še ne pomeni, da se bomo po koncu tekme lahko veselili. Zdaj je naša usoda namreÄ odvisna tudi od drugih, \" je za konec krajšega pogovora povedal Gliha.',\n",
       "   'duplicate': False}],\n",
       " 'split': 'train'}"
      ]
     },
     "execution_count": 85,
     "metadata": {},
     "output_type": "execute_result"
    }
   ],
   "source": [
    "nonsuitable_content[0]"
   ]
  },
  {
   "cell_type": "markdown",
   "metadata": {},
   "source": [
    "## Putting in together\n",
    "\n",
    "We are finally ready to do the same preprocessing as before (note that we do not have a tertiary label here.)"
   ]
  },
  {
   "cell_type": "code",
   "execution_count": 86,
   "metadata": {},
   "outputs": [],
   "source": [
    "for doc in nonsuitable_content:\n",
    "    # Adding downcasted labels\n",
    "    for label in \"primary,secondary\".split(\",\"):\n",
    "        p = doc[label]\n",
    "        doc[f\"{label}_level_1\"] = p\n",
    "\n",
    "        # We do not downcast unsuitable labels:\n",
    "\n",
    "        #doc[f\"{label}_level_2\"] = first_downcasting(p)\n",
    "        #doc[f\"{label}_level_3\"] = second_downcasting(first_downcasting(p))\n",
    "        del doc[label]\n",
    "    # Adding split\n",
    "    # We already have the split information.\n",
    "    #doc[\"split\"] = assign_split(doc[\"id\"])\n",
    "    # Adding domain:\n",
    "    doc[\"domain\"] = get_domain(doc[\"url\"])\n",
    "    \n",
    "    # Validation\n",
    "    assert len(doc[\"paragraphs\"]) > 0, \"Paragraphs is an empty list.\"\n",
    "    #assert (doc[\"primary_level_2\"] in utils.list_of_categories_matrix) or (doc[\"primary_level_2\"] == \"\"), f\"Weird: {doc['primary_level_2']}\"\n",
    "    assert doc[\"url\"] != \"\" and isinstance(doc[\"url\"], str)\n",
    "\n",
    "with open(\"/home/peterr/macocu/task5_webgenres/data/finished_dataset/nonsuitable.json\", \"w\") as f:\n",
    "    json.dump(nonsuitable_content, f)"
   ]
  },
  {
   "cell_type": "code",
   "execution_count": 87,
   "metadata": {},
   "outputs": [
    {
     "data": {
      "text/plain": [
       "{'id': '1237',\n",
       " 'url': 'http://www.sport-tv.si/d164779/Nogomet/Reprezentance/Gliha_Za_uspeh_bo_treba_umreti_in....html',\n",
       " 'crawled': '2014',\n",
       " 'paragraphs': [{'text': 'Reprezentance', 'duplicate': False},\n",
       "  {'text': 'Gliha: Za uspeh bo treba \" umreti \" in...', 'duplicate': False},\n",
       "  {'text': 'Mladinska slovenska nogometna reprezentanca bo danes odigrala Å ¡ e zadnje sreÄanje v uvodnih kvalifikacijah za evropsko prvenstvo leta 2013, ki bo v Litvi. Äeta Primoža Glihe je v skupini 10 trenutno sicer na zadnjem mestu, toda ob primernem razpletu na obeh dvobojih tretjega kola (beri: zmagah Slovenije in Rusije) si Å ¡ e lahko zagotovi drugo mesto ter s tem napredovanje v zakljuÄni del bojev za sedem mest, ki bodo naposled vodila na turnir stare celine selekcij do 19 let.',\n",
       "   'duplicate': False},\n",
       "  {'text': '15. oktober 2012. ob 01:38 | zadnja sprememba: 15. oktober 2012. ob 01:56',\n",
       "   'duplicate': False},\n",
       "  {'text': 'V dosedanjem poteku turnirja, ki se odvija na naših tleh, bolje reÄeno v Bakovcih in Slovenski Bistrici, so mladeniÄi iz deželice na sonÄni strani Alp osvojili le toÄko, ki so si jo sicer priigrali (0:0) proti trenutno vodilnim Rusom (slednji so do zdaj zbrali štiri toÄke). V preostalem obraÄunu so namreÄ klonili pred Valižani in si s tem še kako otežili delo glede uvrstitve v naslednje kolo kvalifikacij. Toda kot smo že zapisali, za varovance 45-letnega strokovnjaka še ni vsega konec. Äe bi namreÄ uspeli danes v Slovenski Bistrici premagati Švede (tekma se bo zaÄela ob 15. uri), Rusi pa bi istoÄasno odpravili ValiÅ ¾ ane, bi se veselili zelo lepega uspeha, ki pred dvoboji štirih reprezentanc ni mogel biti naÄrtovan.',\n",
       "   'duplicate': False},\n",
       "  {'text': 'Varovanci Primoža Glihe po petkovem porazu za napredovanje potrebujejo zmago proti Švedom in hkrati tri toÄke Rusov',\n",
       "   'duplicate': False},\n",
       "  {'text': 'V mednarodnih krogih so namreÄ Rusi in Švedi nekako veljali za favorite v tej skupini, zaradi domaÄega igrišÄa pa so Slovenci seveda lahko upali na preseneÄenje. Toda slednje je nekoliko \" splahnelo \" po porazu proti Valižanom z 1:2. \" Ker je moje mlade varovance sreÄanje proti Rusom, ki so ga sicer odigrali zelo dobro, tudi v taktiÄnem pogledu, precej izÄrpalo, jim je za dvoboj proti Valižanom enostavno zmanjkalo energije. In ko je tako, vselej pride tudi do pomanjkanja koncentracije, kar se je tokrat zelo lepo videlo, saj nikakor nismo mogli zabiti vsaj izenaÄujoÄega zadetka. Ne morem reÄi, da se fantje niso trudili, da si niso Å ¾ eleli, toda glava jih tokrat paÄ ni ubogala, \" je v petek dejal Gliha.',\n",
       "   'duplicate': False},\n",
       "  {'text': 'Problem dveh zaporednih obraÄunov v 48 urah, ki je nadebudnežem odvzela moÄ, je torej spodrezal krila Slovencem, ki pa kljub temu zelo težko dosegajo gole. V 180 minutah niso bili v tem pogledu uspešni niti enkrat, kajti Valižani so pravzaprav sami premagali lastnega vratarja. \" NeuÄinkovitost napadalcev me sploh ne Äudi. Gre za napako v vzgoji, saj dandanes v mlajših selekcijah sploh veÄ nimamo klasiÄnih golgeterjev, kot sta Etien Velikonja ali Tim MatavÅ ¾. V Sloveniji namreÄ zdaj bolj kot ne ustvarjamo le še nekakšne boÄne igralce, tistih, ki bi morali dosegati zadetke in ki bi bili takrat, ko to morajo biti, v kazenskem prostoru, pa skoraj ni veÄ, \" je bil oster nekdanji trener številnih naših prvoligašev.',\n",
       "   'duplicate': False},\n",
       "  {'text': 'Slovenci proti Valižanom niso in niso mogli doseÄi vsaj izenaÄujoÄega gola',\n",
       "   'duplicate': False},\n",
       "  {'text': 'Kakorkoli Å ¾ e, slovenska mladinska reprezentanca je še povsem \" v igri \" za drugo mesto in s tem preboj v naslednje kolo kvalifikacij, toda za to potrebuje tudi pomoÄ Rusije, ki mora istoÄasno premagati Wales. \" Kako se bo odvijalo sreÄanje med Rusi in ValiÅ ¾ ani, niti ne moremo vedeti niti na to ne moremo vplivati. Naša naloga je, da proti Švedom pokažemo veÄ, kot smo nazadnje. Morali bomo biti 100-odstotni, 99 odstotkov ne bo dovolj za zmago. PraktiÄno bomo morali na zelenici \\' umreti \\' za uspeh. In Äetudi bo tako, še ne pomeni, da se bomo po koncu tekme lahko veselili. Zdaj je naša usoda namreÄ odvisna tudi od drugih, \" je za konec krajšega pogovora povedal Gliha.',\n",
       "   'duplicate': False}],\n",
       " 'split': 'train',\n",
       " 'primary_level_1': 'Encoding Issues',\n",
       " 'secondary_level_1': '',\n",
       " 'domain': 'www.sport-tv.si'}"
      ]
     },
     "execution_count": 87,
     "metadata": {},
     "output_type": "execute_result"
    }
   ],
   "source": [
    "nonsuitable_content[0]"
   ]
  },
  {
   "cell_type": "code",
   "execution_count": null,
   "metadata": {},
   "outputs": [],
   "source": []
  }
 ],
 "metadata": {
  "interpreter": {
   "hash": "7f6f5766036ee03d059e365a942add07f79c17033585e9357ee8157d52fe6bb9"
  },
  "kernelspec": {
   "display_name": "Python 3.8.3 64-bit ('base': conda)",
   "language": "python",
   "name": "python3"
  },
  "language_info": {
   "codemirror_mode": {
    "name": "ipython",
    "version": 3
   },
   "file_extension": ".py",
   "mimetype": "text/x-python",
   "name": "python",
   "nbconvert_exporter": "python",
   "pygments_lexer": "ipython3",
   "version": "3.8.3"
  },
  "orig_nbformat": 4
 },
 "nbformat": 4,
 "nbformat_minor": 2
}
