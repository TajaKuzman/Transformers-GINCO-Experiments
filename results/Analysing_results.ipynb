{
 "cells": [
  {
   "cell_type": "code",
   "execution_count": 87,
   "metadata": {},
   "outputs": [],
   "source": [
    "import json\n",
    "import pandas as pd\n",
    "import numpy as np\n",
    "from scipy import stats\n",
    "from sklearn.metrics import confusion_matrix\n",
    "import matplotlib.pyplot as plt"
   ]
  },
  {
   "cell_type": "code",
   "execution_count": 22,
   "metadata": {},
   "outputs": [
    {
     "data": {
      "text/html": [
       "<div>\n",
       "<style scoped>\n",
       "    .dataframe tbody tr th:only-of-type {\n",
       "        vertical-align: middle;\n",
       "    }\n",
       "\n",
       "    .dataframe tbody tr th {\n",
       "        vertical-align: top;\n",
       "    }\n",
       "\n",
       "    .dataframe thead th {\n",
       "        text-align: right;\n",
       "    }\n",
       "</style>\n",
       "<table border=\"1\" class=\"dataframe\">\n",
       "  <thead>\n",
       "    <tr style=\"text-align: right;\">\n",
       "      <th></th>\n",
       "      <th>Run</th>\n",
       "      <th>microF1</th>\n",
       "      <th>macroF1</th>\n",
       "      <th>y_true</th>\n",
       "      <th>y_pred</th>\n",
       "      <th>run</th>\n",
       "      <th>model</th>\n",
       "    </tr>\n",
       "  </thead>\n",
       "  <tbody>\n",
       "    <tr>\n",
       "      <th>0</th>\n",
       "      <td>SloBERTa_1st_run</td>\n",
       "      <td>0.619289</td>\n",
       "      <td>0.530990</td>\n",
       "      <td>[News/Reporting, Opinionated News, Invitation,...</td>\n",
       "      <td>[News/Reporting, News/Reporting, Invitation, C...</td>\n",
       "      <td>1</td>\n",
       "      <td>SloBERTa</td>\n",
       "    </tr>\n",
       "    <tr>\n",
       "      <th>1</th>\n",
       "      <td>SloBERTa_2nd_run</td>\n",
       "      <td>0.624365</td>\n",
       "      <td>0.591542</td>\n",
       "      <td>[News/Reporting, Opinionated News, Invitation,...</td>\n",
       "      <td>[News/Reporting, Opinionated News, Invitation,...</td>\n",
       "      <td>2</td>\n",
       "      <td>SloBERTa</td>\n",
       "    </tr>\n",
       "    <tr>\n",
       "      <th>2</th>\n",
       "      <td>SloBERTa_3rd_run</td>\n",
       "      <td>0.593909</td>\n",
       "      <td>0.572457</td>\n",
       "      <td>[News/Reporting, Opinionated News, Invitation,...</td>\n",
       "      <td>[List of Summaries/Excerpts, Opinionated News,...</td>\n",
       "      <td>3</td>\n",
       "      <td>SloBERTa</td>\n",
       "    </tr>\n",
       "    <tr>\n",
       "      <th>3</th>\n",
       "      <td>SloBERTa_4th_run</td>\n",
       "      <td>0.598985</td>\n",
       "      <td>0.522093</td>\n",
       "      <td>[News/Reporting, Opinionated News, Invitation,...</td>\n",
       "      <td>[Opinionated News, Opinionated News, Invitatio...</td>\n",
       "      <td>4</td>\n",
       "      <td>SloBERTa</td>\n",
       "    </tr>\n",
       "    <tr>\n",
       "      <th>4</th>\n",
       "      <td>SloBERTa_5th_run</td>\n",
       "      <td>0.609137</td>\n",
       "      <td>0.539267</td>\n",
       "      <td>[News/Reporting, Opinionated News, Invitation,...</td>\n",
       "      <td>[Opinionated News, Opinionated News, Invitatio...</td>\n",
       "      <td>5</td>\n",
       "      <td>SloBERTa</td>\n",
       "    </tr>\n",
       "  </tbody>\n",
       "</table>\n",
       "</div>"
      ],
      "text/plain": [
       "                Run   microF1   macroF1  \\\n",
       "0  SloBERTa_1st_run  0.619289  0.530990   \n",
       "1  SloBERTa_2nd_run  0.624365  0.591542   \n",
       "2  SloBERTa_3rd_run  0.593909  0.572457   \n",
       "3  SloBERTa_4th_run  0.598985  0.522093   \n",
       "4  SloBERTa_5th_run  0.609137  0.539267   \n",
       "\n",
       "                                              y_true  \\\n",
       "0  [News/Reporting, Opinionated News, Invitation,...   \n",
       "1  [News/Reporting, Opinionated News, Invitation,...   \n",
       "2  [News/Reporting, Opinionated News, Invitation,...   \n",
       "3  [News/Reporting, Opinionated News, Invitation,...   \n",
       "4  [News/Reporting, Opinionated News, Invitation,...   \n",
       "\n",
       "                                              y_pred  run     model  \n",
       "0  [News/Reporting, News/Reporting, Invitation, C...    1  SloBERTa  \n",
       "1  [News/Reporting, Opinionated News, Invitation,...    2  SloBERTa  \n",
       "2  [List of Summaries/Excerpts, Opinionated News,...    3  SloBERTa  \n",
       "3  [Opinionated News, Opinionated News, Invitatio...    4  SloBERTa  \n",
       "4  [Opinionated News, Opinionated News, Invitatio...    5  SloBERTa  "
      ]
     },
     "execution_count": 22,
     "metadata": {},
     "output_type": "execute_result"
    }
   ],
   "source": [
    "# Import the JSON file with the results log and open it as dataframe\n",
    "with open(\"Results-Language-Comparison.json\") as f:\n",
    "    content = json.load(f)\n",
    "\n",
    "jsonlikecontent = dict()\n",
    "\n",
    "for key in content[0].keys():\n",
    "    jsonlikecontent[key] = [i[key] for i in content]\n",
    "\n",
    "results_df = pd.DataFrame(data = jsonlikecontent)\n",
    "\n",
    "results_df.head()"
   ]
  },
  {
   "cell_type": "code",
   "execution_count": 23,
   "metadata": {},
   "outputs": [
    {
     "data": {
      "text/plain": [
       "Index(['Run', 'microF1', 'macroF1', 'y_true', 'y_pred', 'run', 'model'], dtype='object')"
      ]
     },
     "execution_count": 23,
     "metadata": {},
     "output_type": "execute_result"
    }
   ],
   "source": [
    "results_df.columns"
   ]
  },
  {
   "cell_type": "code",
   "execution_count": 60,
   "metadata": {},
   "outputs": [],
   "source": [
    "def calculate_mean_std(model_name):\n",
    "    '''\n",
    "    This function takes the model_name from the \"model column\" in results_df and prints out the mean and std overall all of the runs of the model.\n",
    "\n",
    "    Args: model_name (str): the name of the model as stated in the results_df.model column.\n",
    "\n",
    "    Returns: A dictionary with the model name, F1 macro and micro means and stds.\n",
    "    '''\n",
    "    group_per_model_results = results_df.groupby(\"model\")\n",
    "    model_results = group_per_model_results.get_group(model_name)\n",
    "\n",
    "    # Calculate the mean and std of micro and macro F1 scores\n",
    "    micro_f1 = model_results.microF1.values\n",
    "    macro_f1 = model_results.macroF1.values\n",
    "\n",
    "    fmi_mean = micro_f1.mean()\n",
    "    fmi_std = micro_f1.std()\n",
    "\n",
    "    fma_mean = macro_f1.mean()\n",
    "    fma_std = macro_f1.std()\n",
    "\n",
    "    print(f\"{model_name} & {fmi_mean:0.3} $\\pm$ {fmi_std:0.1} & {fma_mean:0.3} $\\pm$ {fma_std:0.1}\\\\\")\n",
    "    \n",
    "    results = {\"Model\":model_name, \"Micro F1\": f\"{fmi_mean:0.3}\", \"Micro STD\": f\"{fmi_std:0.2}\",\"Macro F1\": f\"{fma_mean:0.3}\", \"Macro STD\": f\"{fma_std:0.2}\"}\n",
    "    return results "
   ]
  },
  {
   "cell_type": "code",
   "execution_count": 61,
   "metadata": {},
   "outputs": [
    {
     "name": "stdout",
     "output_type": "stream",
     "text": [
      "\n",
      "Model & Micro F1 & Macro F1\\\n",
      "SloBERTa & 0.609 $\\pm$ 0.01 & 0.551 $\\pm$ 0.03\\\n"
     ]
    },
    {
     "data": {
      "text/plain": [
       "{'Model': 'SloBERTa',\n",
       " 'Micro F1': '0.609',\n",
       " 'Micro STD': '0.012',\n",
       " 'Macro F1': '0.551',\n",
       " 'Macro STD': '0.026'}"
      ]
     },
     "execution_count": 61,
     "metadata": {},
     "output_type": "execute_result"
    }
   ],
   "source": [
    "print(\"\"\"\n",
    "Model & Micro F1 & Macro F1\\\\\"\"\")\n",
    "calculate_mean_std(\"SloBERTa\")"
   ]
  },
  {
   "cell_type": "code",
   "execution_count": 63,
   "metadata": {},
   "outputs": [
    {
     "name": "stdout",
     "output_type": "stream",
     "text": [
      "\n",
      "Model & Micro F1 & Macro F1\\\n",
      "SloBERTa & 0.609 $\\pm$ 0.01 & 0.551 $\\pm$ 0.03\\\n",
      "CroSloEngualBERT & 0.515 $\\pm$ 0.02 & 0.411 $\\pm$ 0.04\\\n",
      "XMLRobertaBase & 0.554 $\\pm$ 0.02 & 0.552 $\\pm$ 0.02\\\n",
      "BERTić & 0.486 $\\pm$ 0.008 & 0.455 $\\pm$ 0.04\\\n",
      "BERT & 0.297 $\\pm$ 0.02 & 0.24 $\\pm$ 0.04\\\n"
     ]
    }
   ],
   "source": [
    "print(\"\"\"\n",
    "Model & Micro F1 & Macro F1\\\\\"\"\")\n",
    "\n",
    "mean_results_list = []\n",
    "\n",
    "for i in results_df.model.unique().tolist():\n",
    "    mean_results_list.append(calculate_mean_std(i))"
   ]
  },
  {
   "cell_type": "code",
   "execution_count": 64,
   "metadata": {},
   "outputs": [
    {
     "data": {
      "text/plain": [
       "[{'Model': 'SloBERTa',\n",
       "  'Micro F1': '0.609',\n",
       "  'Micro STD': '0.012',\n",
       "  'Macro F1': '0.551',\n",
       "  'Macro STD': '0.026'},\n",
       " {'Model': 'CroSloEngualBERT',\n",
       "  'Micro F1': '0.515',\n",
       "  'Micro STD': '0.018',\n",
       "  'Macro F1': '0.411',\n",
       "  'Macro STD': '0.038'},\n",
       " {'Model': 'XMLRobertaBase',\n",
       "  'Micro F1': '0.554',\n",
       "  'Micro STD': '0.016',\n",
       "  'Macro F1': '0.552',\n",
       "  'Macro STD': '0.018'},\n",
       " {'Model': 'BERTić',\n",
       "  'Micro F1': '0.486',\n",
       "  'Micro STD': '0.0081',\n",
       "  'Macro F1': '0.455',\n",
       "  'Macro STD': '0.04'},\n",
       " {'Model': 'BERT',\n",
       "  'Micro F1': '0.297',\n",
       "  'Micro STD': '0.018',\n",
       "  'Macro F1': '0.24',\n",
       "  'Macro STD': '0.042'}]"
      ]
     },
     "execution_count": 64,
     "metadata": {},
     "output_type": "execute_result"
    }
   ],
   "source": [
    "mean_results_list"
   ]
  },
  {
   "cell_type": "markdown",
   "metadata": {},
   "source": [
    "Calculating the statistical significance:"
   ]
  },
  {
   "cell_type": "markdown",
   "metadata": {},
   "source": [
    "Comparing statistical significance for SloBERTa and XMLRoBERTa Base:"
   ]
  },
  {
   "cell_type": "code",
   "execution_count": 67,
   "metadata": {},
   "outputs": [],
   "source": [
    "c1 = results_df.model == \"SloBERTa\"\n",
    "c2 = results_df.model == \"XMLRobertaBase\""
   ]
  },
  {
   "cell_type": "code",
   "execution_count": 73,
   "metadata": {},
   "outputs": [
    {
     "name": "stdout",
     "output_type": "stream",
     "text": [
      "MannWhithey p value: 0.5 \t\t(alternative hypothesis: first is greater than the second)\n",
      "Student p value: 0.971 \t\t(null hypothesis: samples have identical average, equal variance is assumed but not necessary)\n",
      "Higher average: 0.5513, lower average: 0.5519\n"
     ]
    }
   ],
   "source": [
    "#Candidate:\n",
    "higher = results_df.loc[c1, \"macroF1\"][0:5]\n",
    "#Alternative\n",
    "lower = results_df.loc[c2, \"macroF1\"][0:5]\n",
    "\n",
    "print(f\"MannWhithey p value: {stats.mannwhitneyu(higher,lower, alternative='greater')[1]:0.3}\", \"\\t\\t(alternative hypothesis: first is greater than the second)\")\n",
    "\n",
    "print(f\"Student p value: {stats.ttest_ind(higher,lower)[1]:0.3}\", \"\\t\\t(null hypothesis: samples have identical average, equal variance is assumed but not necessary)\")\n",
    "\n",
    "import numpy as np\n",
    "print(f\"Higher average: {np.mean(higher):0.4}, lower average: {np.mean(lower):0.4}\")"
   ]
  },
  {
   "cell_type": "markdown",
   "metadata": {},
   "source": [
    "Plotting confusion matrices over all 5 examples"
   ]
  },
  {
   "cell_type": "code",
   "execution_count": 109,
   "metadata": {},
   "outputs": [
    {
     "data": {
      "text/plain": [
       "21"
      ]
     },
     "execution_count": 109,
     "metadata": {},
     "output_type": "execute_result"
    }
   ],
   "source": [
    "LABELS = ['Information/Explanation','Research Article','Instruction','Recipe', 'Legal/Regulation','Call','Announcement','News/Reporting','Opinionated News','Opinion/Argumentation','Review','Promotion','Promotion of a Product','Promotion of Services','Invitation','Forum','Interview','Correspondence','Prose','List of Summaries/Excerpts','Other']\n",
    "\n",
    "len(LABELS)"
   ]
  },
  {
   "cell_type": "code",
   "execution_count": 113,
   "metadata": {},
   "outputs": [],
   "source": [
    "# Get the y_true and y_pred labels for all 5 runs:\n",
    "\n",
    "def cm_over_5_runs(model_name):\n",
    "    y_pred_all = []\n",
    "    y_true_all = []\n",
    "\n",
    "\n",
    "    for element in content:\n",
    "        if element[\"model\"] == model_name:\n",
    "            for i in element[\"y_true\"]:\n",
    "                y_true_all.append(i)\n",
    "            for i2 in element[\"y_pred\"]:\n",
    "                y_pred_all.append(i2)\n",
    "\n",
    "    print(f\"Number of all true labels: {len(y_true_all)}, Number of all predicted labels: {len(y_pred_all)}\")\n",
    "\n",
    "    cm = confusion_matrix(y_true_all, y_pred_all, labels=LABELS)\n",
    "    plt.figure(figsize=(9, 9))\n",
    "    plt.imshow(cm, cmap=\"Oranges\")\n",
    "    for (i, j), z in np.ndenumerate(cm):\n",
    "        plt.text(j, i, '{:d}'.format(z), ha='center', va='center')\n",
    "    classNames = LABELS\n",
    "    plt.ylabel('True label')\n",
    "    plt.xlabel('Predicted label')\n",
    "    tick_marks = np.arange(len(classNames))\n",
    "    plt.xticks(tick_marks, classNames, rotation=90)\n",
    "    plt.yticks(tick_marks, classNames)\n",
    "\n",
    "    fig1 = plt.gcf()\n",
    "    plt.title(f\"Confusion Matrix for {model_name} over 5 Runs\")\n",
    "    image_title = f\"plots\\Confusion_matrix-over-5-runs-{model_name}.png\"\n",
    "    plt.tight_layout()\n",
    "    plt.show()\n",
    "    plt.draw()\n",
    "    fig1.savefig(image_title, dpi=200)"
   ]
  },
  {
   "cell_type": "code",
   "execution_count": 103,
   "metadata": {},
   "outputs": [
    {
     "name": "stdout",
     "output_type": "stream",
     "text": [
      "SloBERTa\n",
      "SloBERTa\n",
      "SloBERTa\n",
      "SloBERTa\n",
      "SloBERTa\n",
      "CroSloEngualBERT\n",
      "CroSloEngualBERT\n",
      "CroSloEngualBERT\n",
      "CroSloEngualBERT\n",
      "CroSloEngualBERT\n",
      "XMLRobertaBase\n",
      "XMLRobertaBase\n",
      "XMLRobertaBase\n",
      "XMLRobertaBase\n",
      "XMLRobertaBase\n",
      "BERTić\n",
      "BERTić\n",
      "BERTić\n",
      "BERTić\n",
      "BERTić\n",
      "BERT\n",
      "BERT\n",
      "BERT\n",
      "BERT\n",
      "BERT\n"
     ]
    }
   ],
   "source": [
    "for i in content:\n",
    "    print(i[\"model\"])"
   ]
  },
  {
   "cell_type": "code",
   "execution_count": 116,
   "metadata": {},
   "outputs": [
    {
     "name": "stdout",
     "output_type": "stream",
     "text": [
      "Number of all true labels: 985, Number of all predicted labels: 985\n"
     ]
    },
    {
     "data": {
      "image/png": "[encoded data removed]",
      "text/plain": [
       "<Figure size 648x648 with 1 Axes>"
      ]
     },
     "metadata": {
      "needs_background": "light"
     },
     "output_type": "display_data"
    },
    {
     "data": {
      "text/plain": [
       "<Figure size 432x288 with 0 Axes>"
      ]
     },
     "metadata": {},
     "output_type": "display_data"
    }
   ],
   "source": [
    "    cm_over_5_runs(\"SloBERTa\")"
   ]
  },
  {
   "cell_type": "code",
   "execution_count": null,
   "metadata": {},
   "outputs": [],
   "source": []
  }
 ],
 "metadata": {
  "interpreter": {
   "hash": "15bcfae0289f7027b7d9cc857dcda33095e786c28b8ed9f6390564d089cc9131"
  },
  "kernelspec": {
   "display_name": "Python 3.8.8 64-bit ('base': conda)",
   "language": "python",
   "name": "python3"
  },
  "language_info": {
   "codemirror_mode": {
    "name": "ipython",
    "version": 3
   },
   "file_extension": ".py",
   "mimetype": "text/x-python",
   "name": "python",
   "nbconvert_exporter": "python",
   "pygments_lexer": "ipython3",
   "version": "3.8.8"
  },
  "orig_nbformat": 4
 },
 "nbformat": 4,
 "nbformat_minor": 2
}
