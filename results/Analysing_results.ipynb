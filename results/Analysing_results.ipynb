{
 "cells": [
  {
   "cell_type": "code",
   "execution_count": 99,
   "metadata": {},
   "outputs": [],
   "source": [
    "import json\n",
    "import pandas as pd\n",
    "import numpy as np\n",
    "from scipy import stats\n",
    "from sklearn.metrics import confusion_matrix\n",
    "import matplotlib.pyplot as plt"
   ]
  },
  {
   "cell_type": "markdown",
   "metadata": {},
   "source": [
    "## Language Impact"
   ]
  },
  {
   "cell_type": "code",
   "execution_count": 100,
   "metadata": {},
   "outputs": [
    {
     "data": {
      "text/plain": [
       "{'Run': 'XMLRobertaBase_run_0',\n",
       " 'microF1': 0.47715736040609136,\n",
       " 'macroF1': 0.4097697898403753,\n",
       " 'y_true': ['News/Reporting',\n",
       "  'Opinionated News',\n",
       "  'Invitation',\n",
       "  'Other',\n",
       "  'Research Article',\n",
       "  'News/Reporting',\n",
       "  'Opinion/Argumentation',\n",
       "  'Opinionated News',\n",
       "  'Opinion/Argumentation',\n",
       "  'Opinionated News',\n",
       "  'Forum',\n",
       "  'Opinionated News',\n",
       "  'Correspondence',\n",
       "  'Correspondence',\n",
       "  'Information/Explanation',\n",
       "  'Correspondence',\n",
       "  'Opinionated News',\n",
       "  'Promotion',\n",
       "  'Information/Explanation',\n",
       "  'Information/Explanation',\n",
       "  'Invitation',\n",
       "  'Opinion/Argumentation',\n",
       "  'News/Reporting',\n",
       "  'Invitation',\n",
       "  'Information/Explanation',\n",
       "  'News/Reporting',\n",
       "  'News/Reporting',\n",
       "  'Information/Explanation',\n",
       "  'News/Reporting',\n",
       "  'Opinionated News',\n",
       "  'Instruction',\n",
       "  'Information/Explanation',\n",
       "  'Information/Explanation',\n",
       "  'News/Reporting',\n",
       "  'Promotion of a Product',\n",
       "  'Invitation',\n",
       "  'News/Reporting',\n",
       "  'Information/Explanation',\n",
       "  'Instruction',\n",
       "  'Information/Explanation',\n",
       "  'Instruction',\n",
       "  'Interview',\n",
       "  'Invitation',\n",
       "  'Promotion of a Product',\n",
       "  'Opinionated News',\n",
       "  'News/Reporting',\n",
       "  'Opinionated News',\n",
       "  'List of Summaries/Excerpts',\n",
       "  'Promotion of Services',\n",
       "  'List of Summaries/Excerpts',\n",
       "  'Information/Explanation',\n",
       "  'Forum',\n",
       "  'Promotion of a Product',\n",
       "  'Opinionated News',\n",
       "  'Opinion/Argumentation',\n",
       "  'Opinion/Argumentation',\n",
       "  'Information/Explanation',\n",
       "  'News/Reporting',\n",
       "  'Information/Explanation',\n",
       "  'Review',\n",
       "  'Opinion/Argumentation',\n",
       "  'Opinionated News',\n",
       "  'Opinion/Argumentation',\n",
       "  'Information/Explanation',\n",
       "  'Promotion of a Product',\n",
       "  'Promotion of a Product',\n",
       "  'Prose',\n",
       "  'Forum',\n",
       "  'List of Summaries/Excerpts',\n",
       "  'Information/Explanation',\n",
       "  'Information/Explanation',\n",
       "  'News/Reporting',\n",
       "  'List of Summaries/Excerpts',\n",
       "  'Promotion of Services',\n",
       "  'Opinionated News',\n",
       "  'Opinion/Argumentation',\n",
       "  'News/Reporting',\n",
       "  'News/Reporting',\n",
       "  'Other',\n",
       "  'Forum',\n",
       "  'Announcement',\n",
       "  'Information/Explanation',\n",
       "  'News/Reporting',\n",
       "  'Information/Explanation',\n",
       "  'Research Article',\n",
       "  'Information/Explanation',\n",
       "  'Opinion/Argumentation',\n",
       "  'Promotion of Services',\n",
       "  'Information/Explanation',\n",
       "  'List of Summaries/Excerpts',\n",
       "  'Forum',\n",
       "  'Correspondence',\n",
       "  'News/Reporting',\n",
       "  'Information/Explanation',\n",
       "  'Promotion',\n",
       "  'News/Reporting',\n",
       "  'Promotion',\n",
       "  'Correspondence',\n",
       "  'News/Reporting',\n",
       "  'Research Article',\n",
       "  'Research Article',\n",
       "  'Research Article',\n",
       "  'Instruction',\n",
       "  'Promotion of a Product',\n",
       "  'Announcement',\n",
       "  'List of Summaries/Excerpts',\n",
       "  'Instruction',\n",
       "  'Opinionated News',\n",
       "  'Promotion of a Product',\n",
       "  'Other',\n",
       "  'Information/Explanation',\n",
       "  'News/Reporting',\n",
       "  'Opinion/Argumentation',\n",
       "  'Legal/Regulation',\n",
       "  'Review',\n",
       "  'Opinionated News',\n",
       "  'Opinion/Argumentation',\n",
       "  'Interview',\n",
       "  'List of Summaries/Excerpts',\n",
       "  'Promotion of a Product',\n",
       "  'Information/Explanation',\n",
       "  'Promotion of a Product',\n",
       "  'List of Summaries/Excerpts',\n",
       "  'Opinion/Argumentation',\n",
       "  'Information/Explanation',\n",
       "  'Other',\n",
       "  'Promotion of Services',\n",
       "  'List of Summaries/Excerpts',\n",
       "  'Information/Explanation',\n",
       "  'News/Reporting',\n",
       "  'Promotion of a Product',\n",
       "  'Promotion',\n",
       "  'Information/Explanation',\n",
       "  'Promotion of a Product',\n",
       "  'News/Reporting',\n",
       "  'Invitation',\n",
       "  'Information/Explanation',\n",
       "  'Forum',\n",
       "  'Other',\n",
       "  'Review',\n",
       "  'List of Summaries/Excerpts',\n",
       "  'News/Reporting',\n",
       "  'Information/Explanation',\n",
       "  'Correspondence',\n",
       "  'Information/Explanation',\n",
       "  'Promotion of a Product',\n",
       "  'Announcement',\n",
       "  'Information/Explanation',\n",
       "  'Promotion of a Product',\n",
       "  'Opinion/Argumentation',\n",
       "  'List of Summaries/Excerpts',\n",
       "  'Forum',\n",
       "  'Promotion of a Product',\n",
       "  'List of Summaries/Excerpts',\n",
       "  'Forum',\n",
       "  'List of Summaries/Excerpts',\n",
       "  'Opinion/Argumentation',\n",
       "  'Opinionated News',\n",
       "  'List of Summaries/Excerpts',\n",
       "  'Opinion/Argumentation',\n",
       "  'Promotion of a Product',\n",
       "  'Forum',\n",
       "  'Promotion',\n",
       "  'Opinionated News',\n",
       "  'Opinionated News',\n",
       "  'Promotion of a Product',\n",
       "  'News/Reporting',\n",
       "  'Promotion of a Product',\n",
       "  'Call',\n",
       "  'Information/Explanation',\n",
       "  'Other',\n",
       "  'Promotion of a Product',\n",
       "  'Promotion of Services',\n",
       "  'Instruction',\n",
       "  'Opinionated News',\n",
       "  'News/Reporting',\n",
       "  'Information/Explanation',\n",
       "  'Promotion of a Product',\n",
       "  'Opinion/Argumentation',\n",
       "  'Information/Explanation',\n",
       "  'Recipe',\n",
       "  'Opinion/Argumentation',\n",
       "  'Other',\n",
       "  'News/Reporting',\n",
       "  'News/Reporting',\n",
       "  'Opinionated News',\n",
       "  'News/Reporting',\n",
       "  'Opinionated News',\n",
       "  'Opinionated News',\n",
       "  'News/Reporting',\n",
       "  'Forum',\n",
       "  'Invitation',\n",
       "  'Promotion of a Product',\n",
       "  'Information/Explanation',\n",
       "  'Announcement',\n",
       "  'List of Summaries/Excerpts',\n",
       "  'List of Summaries/Excerpts'],\n",
       " 'y_pred': ['Opinionated News',\n",
       "  'News/Reporting',\n",
       "  'Invitation',\n",
       "  'Forum',\n",
       "  'Information/Explanation',\n",
       "  'Opinionated News',\n",
       "  'Promotion',\n",
       "  'Opinionated News',\n",
       "  'Opinionated News',\n",
       "  'List of Summaries/Excerpts',\n",
       "  'Opinion/Argumentation',\n",
       "  'Opinion/Argumentation',\n",
       "  'Correspondence',\n",
       "  'Forum',\n",
       "  'Information/Explanation',\n",
       "  'Correspondence',\n",
       "  'News/Reporting',\n",
       "  'Promotion of a Product',\n",
       "  'Information/Explanation',\n",
       "  'Information/Explanation',\n",
       "  'Call',\n",
       "  'Promotion',\n",
       "  'Opinionated News',\n",
       "  'Invitation',\n",
       "  'Information/Explanation',\n",
       "  'Opinionated News',\n",
       "  'Opinionated News',\n",
       "  'Information/Explanation',\n",
       "  'News/Reporting',\n",
       "  'Opinionated News',\n",
       "  'Instruction',\n",
       "  'Research Article',\n",
       "  'List of Summaries/Excerpts',\n",
       "  'Opinionated News',\n",
       "  'Promotion of a Product',\n",
       "  'Other',\n",
       "  'News/Reporting',\n",
       "  'Promotion',\n",
       "  'Other',\n",
       "  'News/Reporting',\n",
       "  'Call',\n",
       "  'List of Summaries/Excerpts',\n",
       "  'Invitation',\n",
       "  'Information/Explanation',\n",
       "  'Opinion/Argumentation',\n",
       "  'Information/Explanation',\n",
       "  'News/Reporting',\n",
       "  'Opinionated News',\n",
       "  'Promotion of a Product',\n",
       "  'Promotion',\n",
       "  'Invitation',\n",
       "  'Forum',\n",
       "  'Instruction',\n",
       "  'News/Reporting',\n",
       "  'Opinion/Argumentation',\n",
       "  'Opinionated News',\n",
       "  'Information/Explanation',\n",
       "  'Opinionated News',\n",
       "  'Opinionated News',\n",
       "  'Opinion/Argumentation',\n",
       "  'Opinion/Argumentation',\n",
       "  'Invitation',\n",
       "  'Opinion/Argumentation',\n",
       "  'Information/Explanation',\n",
       "  'Promotion of a Product',\n",
       "  'Information/Explanation',\n",
       "  'Opinion/Argumentation',\n",
       "  'Opinion/Argumentation',\n",
       "  'Opinion/Argumentation',\n",
       "  'Promotion of a Product',\n",
       "  'Invitation',\n",
       "  'News/Reporting',\n",
       "  'Prose',\n",
       "  'Promotion of Services',\n",
       "  'Promotion of a Product',\n",
       "  'Instruction',\n",
       "  'Call',\n",
       "  'Information/Explanation',\n",
       "  'Invitation',\n",
       "  'Forum',\n",
       "  'Legal/Regulation',\n",
       "  'Information/Explanation',\n",
       "  'News/Reporting',\n",
       "  'Information/Explanation',\n",
       "  'Information/Explanation',\n",
       "  'Information/Explanation',\n",
       "  'Information/Explanation',\n",
       "  'Promotion',\n",
       "  'Information/Explanation',\n",
       "  'List of Summaries/Excerpts',\n",
       "  'Forum',\n",
       "  'Correspondence',\n",
       "  'Information/Explanation',\n",
       "  'Information/Explanation',\n",
       "  'Information/Explanation',\n",
       "  'News/Reporting',\n",
       "  'Promotion',\n",
       "  'Correspondence',\n",
       "  'News/Reporting',\n",
       "  'Information/Explanation',\n",
       "  'Research Article',\n",
       "  'Information/Explanation',\n",
       "  'Information/Explanation',\n",
       "  'Promotion of a Product',\n",
       "  'Invitation',\n",
       "  'Promotion of a Product',\n",
       "  'Promotion',\n",
       "  'Opinionated News',\n",
       "  'Promotion of a Product',\n",
       "  'Promotion of a Product',\n",
       "  'Information/Explanation',\n",
       "  'Other',\n",
       "  'Opinion/Argumentation',\n",
       "  'Information/Explanation',\n",
       "  'Other',\n",
       "  'Opinionated News',\n",
       "  'Opinion/Argumentation',\n",
       "  'Interview',\n",
       "  'List of Summaries/Excerpts',\n",
       "  'Promotion of a Product',\n",
       "  'Invitation',\n",
       "  'Promotion of a Product',\n",
       "  'News/Reporting',\n",
       "  'Promotion',\n",
       "  'Information/Explanation',\n",
       "  'Opinion/Argumentation',\n",
       "  'Promotion of Services',\n",
       "  'List of Summaries/Excerpts',\n",
       "  'Information/Explanation',\n",
       "  'News/Reporting',\n",
       "  'Promotion of a Product',\n",
       "  'Promotion of a Product',\n",
       "  'Information/Explanation',\n",
       "  'Promotion',\n",
       "  'Invitation',\n",
       "  'Opinionated News',\n",
       "  'List of Summaries/Excerpts',\n",
       "  'Forum',\n",
       "  'Review',\n",
       "  'Opinion/Argumentation',\n",
       "  'List of Summaries/Excerpts',\n",
       "  'Opinionated News',\n",
       "  'News/Reporting',\n",
       "  'Other',\n",
       "  'Information/Explanation',\n",
       "  'Promotion of a Product',\n",
       "  'Announcement',\n",
       "  'Promotion',\n",
       "  'Promotion of a Product',\n",
       "  'Other',\n",
       "  'List of Summaries/Excerpts',\n",
       "  'Forum',\n",
       "  'Promotion of a Product',\n",
       "  'List of Summaries/Excerpts',\n",
       "  'Forum',\n",
       "  'List of Summaries/Excerpts',\n",
       "  'List of Summaries/Excerpts',\n",
       "  'Opinionated News',\n",
       "  'List of Summaries/Excerpts',\n",
       "  'News/Reporting',\n",
       "  'Promotion of a Product',\n",
       "  'Forum',\n",
       "  'Promotion of a Product',\n",
       "  'Opinionated News',\n",
       "  'Opinionated News',\n",
       "  'Promotion of a Product',\n",
       "  'News/Reporting',\n",
       "  'Promotion of a Product',\n",
       "  'Legal/Regulation',\n",
       "  'Promotion of a Product',\n",
       "  'Information/Explanation',\n",
       "  'Promotion of a Product',\n",
       "  'Promotion of Services',\n",
       "  'News/Reporting',\n",
       "  'List of Summaries/Excerpts',\n",
       "  'News/Reporting',\n",
       "  'Information/Explanation',\n",
       "  'Promotion of a Product',\n",
       "  'News/Reporting',\n",
       "  'Promotion of a Product',\n",
       "  'Recipe',\n",
       "  'Opinion/Argumentation',\n",
       "  'Instruction',\n",
       "  'News/Reporting',\n",
       "  'Promotion of a Product',\n",
       "  'Opinionated News',\n",
       "  'News/Reporting',\n",
       "  'Opinionated News',\n",
       "  'Opinionated News',\n",
       "  'List of Summaries/Excerpts',\n",
       "  'Review',\n",
       "  'Invitation',\n",
       "  'Promotion of a Product',\n",
       "  'Invitation',\n",
       "  'Announcement',\n",
       "  'Promotion of Services',\n",
       "  'Invitation'],\n",
       " 'run': 0,\n",
       " 'model': 'XMLRobertaBase'}"
      ]
     },
     "execution_count": 100,
     "metadata": {},
     "output_type": "execute_result"
    }
   ],
   "source": [
    "# Import the JSON file with the results log and open it as dataframe\n",
    "with open(\"Language-comparison-128-seq-length.json\") as f:\n",
    "    content = json.load(f)\n",
    "\n",
    "content[0]"
   ]
  },
  {
   "cell_type": "code",
   "execution_count": 101,
   "metadata": {},
   "outputs": [
    {
     "ename": "IndentationError",
     "evalue": "expected an indented block (<ipython-input-101-49e0cd901765>, line 4)",
     "output_type": "error",
     "traceback": [
      "\u001b[1;36m  File \u001b[1;32m\"<ipython-input-101-49e0cd901765>\"\u001b[1;36m, line \u001b[1;32m4\u001b[0m\n\u001b[1;33m    jsonlikecontent[key] = [i[key] for i in content]\u001b[0m\n\u001b[1;37m    ^\u001b[0m\n\u001b[1;31mIndentationError\u001b[0m\u001b[1;31m:\u001b[0m expected an indented block\n"
     ]
    }
   ],
   "source": [
    "jsonlikecontent = dict()\n",
    "\n",
    "for key in content[0].keys():\n",
    "jsonlikecontent[key] = [i[key] for i in content]\n",
    "\n",
    "results_df = pd.DataFrame(data = jsonlikecontent)\n",
    "\n",
    "results_df.head()"
   ]
  },
  {
   "cell_type": "code",
   "execution_count": 107,
   "metadata": {},
   "outputs": [
    {
     "data": {
      "text/plain": [
       "Index(['Run', 'microF1', 'macroF1', 'y_true', 'y_pred', 'run', 'model'], dtype='object')"
      ]
     },
     "execution_count": 107,
     "metadata": {},
     "output_type": "execute_result"
    }
   ],
   "source": [
    "results_df.columns"
   ]
  },
  {
   "cell_type": "code",
   "execution_count": 108,
   "metadata": {},
   "outputs": [
    {
     "data": {
      "text/plain": [
       "array(['XMLRobertaBase', 'CroSloEngualBERT', 'SloBERTa', 'BERTic', 'BERT'],\n",
       "      dtype=object)"
      ]
     },
     "execution_count": 108,
     "metadata": {},
     "output_type": "execute_result"
    }
   ],
   "source": [
    "results_df.model.unique()"
   ]
  },
  {
   "cell_type": "markdown",
   "metadata": {},
   "source": [
    "### Creating a table with mean and std over 5 runs"
   ]
  },
  {
   "cell_type": "code",
   "execution_count": null,
   "metadata": {},
   "outputs": [],
   "source": [
    "def calculate_mean_std(model_name, df):\n",
    "'''\n",
    "This function takes the model_name from the \"model column\" in the dataframe with results log and prints out the mean and std overall all of the runs of the model.\n",
    "\n",
    "Args:\n",
    "    model_name (str): the name of the model as stated in the df.model column.\n",
    "    df (dataframe): the name of the dataframe with results\n",
    "\n",
    "    Returns: A dictionary with the model name, F1 macro and micro means and stds.\n",
    "    '''\n",
    "    group_per_model_results = df.groupby(\"model\")\n",
    "    model_results = group_per_model_results.get_group(model_name)\n",
    "\n",
    "    # Calculate the mean and std of micro and macro F1 scores\n",
    "    micro_f1 = model_results.microF1.values\n",
    "    macro_f1 = model_results.macroF1.values\n",
    "\n",
    "    print(f\"{model_name}, micro F1: {micro_f1}, macro F1: {macro_f1}\")\n",
    "\n",
    "    fmi_mean = micro_f1.mean()\n",
    "    fmi_std = micro_f1.std()\n",
    "\n",
    "    fma_mean = macro_f1.mean()\n",
    "    fma_std = macro_f1.std()\n",
    "\n",
    "    print(f\"{model_name} & {fmi_mean:0.3} $\\pm$ {fmi_std:0.1} & {fma_mean:0.3} $\\pm$ {fma_std:0.1}\\\\\")\n",
    "    \n",
    "    results = {\"Model\":model_name, \"Micro F1\": f\"{fmi_mean:0.3}\", \"Micro STD\": f\"{fmi_std:0.2}\",\"Macro F1\": f\"{fma_mean:0.3}\", \"Macro STD\": f\"{fma_std:0.2}\"}\n",
    "    return results "
   ]
  },
  {
   "cell_type": "code",
   "execution_count": null,
   "metadata": {},
   "outputs": [
    {
     "name": "stdout",
     "output_type": "stream",
     "text": [
      "\n",
      "Model & Micro F1 & Macro F1\\\n",
      "CroSloEngualBERT, micro F1: [0.49746193 0.51269036 0.51269036 0.5177665  0.5177665 ], macro F1: [0.38927796 0.42628433 0.44135241 0.44523173 0.44103156]\n",
      "CroSloEngualBERT & 0.512 $\\pm$ 0.007 & 0.429 $\\pm$ 0.02\\\n"
     ]
    },
    {
     "data": {
      "text/plain": [
       "{'Model': 'CroSloEngualBERT',\n",
       " 'Micro F1': '0.512',\n",
       " 'Micro STD': '0.0075',\n",
       " 'Macro F1': '0.429',\n",
       " 'Macro STD': '0.021'}"
      ]
     },
     "execution_count": 7,
     "metadata": {},
     "output_type": "execute_result"
    }
   ],
   "source": [
    "print(\"\"\"\n",
    "Model & Micro F1 & Macro F1\\\\\"\"\")\n",
    "calculate_mean_std(\"CroSloEngualBERT\",results_df)"
   ]
  },
  {
   "cell_type": "code",
   "execution_count": null,
   "metadata": {},
   "outputs": [
    {
     "name": "stdout",
     "output_type": "stream",
     "text": [
      "\n",
      "Model & Micro F1 & Macro F1\\\n",
      "XMLRobertaBase, micro F1: [0.47715736 0.51269036 0.50253807 0.49746193 0.44162437], macro F1: [0.40976979 0.43758628 0.45818993 0.44774551 0.39303668]\n",
      "XMLRobertaBase & 0.486 $\\pm$ 0.03 & 0.429 $\\pm$ 0.02\\\n",
      "CroSloEngualBERT, micro F1: [0.49746193 0.51269036 0.51269036 0.5177665  0.5177665 ], macro F1: [0.38927796 0.42628433 0.44135241 0.44523173 0.44103156]\n",
      "CroSloEngualBERT & 0.512 $\\pm$ 0.007 & 0.429 $\\pm$ 0.02\\\n",
      "SloBERTa, micro F1: [0.55329949 0.57360406 0.57360406 0.58375635 0.56345178], macro F1: [0.48028509 0.50577455 0.57301745 0.56505448 0.5163433 ]\n",
      "SloBERTa & 0.57 $\\pm$ 0.01 & 0.528 $\\pm$ 0.04\\\n",
      "BERTic, micro F1: [0.46700508 0.46192893 0.49746193 0.47208122 0.46192893], macro F1: [0.37847611 0.39123323 0.39921692 0.39336758 0.37393622]\n",
      "BERTic & 0.472 $\\pm$ 0.01 & 0.387 $\\pm$ 0.009\\\n",
      "BERT, micro F1: [0.28426396 0.24873096 0.24873096 0.23857868 0.25888325], macro F1: [0.20045322 0.18210617 0.19254391 0.22022622 0.21913016]\n",
      "BERT & 0.256 $\\pm$ 0.02 & 0.203 $\\pm$ 0.01\\\n"
     ]
    }
   ],
   "source": [
    "print(\"\"\"\n",
    "Model & Micro F1 & Macro F1\\\\\"\"\")\n",
    "\n",
    "mean_results_list = []\n",
    "\n",
    "for i in results_df.model.unique().tolist():\n",
    "    mean_results_list.append(calculate_mean_std(i,results_df))"
   ]
  },
  {
   "cell_type": "code",
   "execution_count": null,
   "metadata": {},
   "outputs": [
    {
     "data": {
      "text/plain": [
       "[{'Model': 'XMLRobertaBase',\n",
       "  'Micro F1': '0.486',\n",
       "  'Micro STD': '0.025',\n",
       "  'Macro F1': '0.429',\n",
       "  'Macro STD': '0.024'},\n",
       " {'Model': 'CroSloEngualBERT',\n",
       "  'Micro F1': '0.512',\n",
       "  'Micro STD': '0.0075',\n",
       "  'Macro F1': '0.429',\n",
       "  'Macro STD': '0.021'},\n",
       " {'Model': 'SloBERTa',\n",
       "  'Micro F1': '0.57',\n",
       "  'Micro STD': '0.01',\n",
       "  'Macro F1': '0.528',\n",
       "  'Macro STD': '0.036'},\n",
       " {'Model': 'BERTic',\n",
       "  'Micro F1': '0.472',\n",
       "  'Micro STD': '0.013',\n",
       "  'Macro F1': '0.387',\n",
       "  'Macro STD': '0.0095'},\n",
       " {'Model': 'BERT',\n",
       "  'Micro F1': '0.256',\n",
       "  'Micro STD': '0.016',\n",
       "  'Macro F1': '0.203',\n",
       "  'Macro STD': '0.015'}]"
      ]
     },
     "execution_count": 9,
     "metadata": {},
     "output_type": "execute_result"
    }
   ],
   "source": [
    "mean_results_list"
   ]
  },
  {
   "cell_type": "markdown",
   "metadata": {},
   "source": [
    "### Calculating the statistical significance"
   ]
  },
  {
   "cell_type": "markdown",
   "metadata": {},
   "source": [
    "Calculating statistical significance for the model's performance. If p < 0.05, there is statistical significance."
   ]
  },
  {
   "cell_type": "markdown",
   "metadata": {},
   "source": [
    "In this setup, we are assuming that c1 is better than c2 and we're observing macro F1 and micro F1."
   ]
  },
  {
   "cell_type": "code",
   "execution_count": null,
   "metadata": {},
   "outputs": [],
   "source": [
    "def stat_signif(first_model, second_model, dataframe):\n",
    "    '''\n",
    "    This function calculates the statistical significance, assuming that the performance of the first model is statistically significantly different than the performance of the second. If p value is less than 0.05, the difference is statistically significant.\n",
    "\n",
    "    The dataframe used should have columns named: 'model' (with model name), 'microF1' and 'macroF1'.\n",
    "\n",
    "    Args:\n",
    "        first_model (str): name of the first model (string from the results_df.model column)\n",
    "        second model (str): name of the second model (string from the results_df.model column)\n",
    "        dataframe (dataframe object): name of the dataframe with the results\n",
    "    '''\n",
    "    c1 = dataframe.model == first_model\n",
    "    c2 = dataframe.model == second_model\n",
    "\n",
    "    #Candidate:\n",
    "    highermi = dataframe.loc[c1, \"microF1\"][0:5]\n",
    "    higherma = dataframe.loc[c1, \"macroF1\"][0:5]\n",
    "    #Alternative\n",
    "    lowermi = dataframe.loc[c2, \"microF1\"][0:5]\n",
    "    lowerma = dataframe.loc[c2, \"macroF1\"][0:5]\n",
    "\n",
    "    print(\"Shape of the micro and macro scores for model 1: \",highermi.shape,higherma.shape)\n",
    "    print(\"Shape of the micro and macro scores for model 2: \", lowermi.shape, lowerma.shape)\n",
    "\n",
    "    p_mi = stats.mannwhitneyu(highermi,lowermi, alternative='greater')[1]\n",
    "    p_ma = stats.mannwhitneyu(higherma,lowerma, alternative='greater')[1]\n",
    "\n",
    "    print(f\"MannWhithey p value for micro F1: {stats.mannwhitneyu(highermi,lowermi, alternative='greater')[1]:0.3}\", \"\\t\\t(alternative hypothesis: first is greater than the second)\")\n",
    "\n",
    "    if p_mi < 0.05:\n",
    "        print(\"Micros are statistically significantly different.\")\n",
    "    else:\n",
    "        print(\"There is no statistical significance in micro F1 results.\")\n",
    "\n",
    "    print(f\"MannWhithey p value for macro F1: {stats.mannwhitneyu(higherma,lowerma, alternative='greater')[1]:0.3}\", \"\\t\\t(alternative hypothesis: first is greater than the second)\")\n",
    "\n",
    "    if p_ma < 0.05:\n",
    "        print(\"Macros are statistically significantly different.\")\n",
    "    else:\n",
    "        print(\"There is no statistical significance in macro F1 results.\")\n",
    "\n",
    "    #print(f\"Student p value: {stats.ttest_ind(higher,lower)[1]:0.3}\", \"\\t\\t(null hypothesis: samples have identical average, equal variance is assumed but not necessary)\")\n",
    "\n",
    "    print(f\"Micro F1: Higher average: {np.mean(highermi):0.4}, lower average: {np.mean(lowermi):0.4}\")\n",
    "\n",
    "    print(f\"Macro F1: Higher average: {np.mean(higherma):0.4}, lower average: {np.mean(lowerma):0.4}\")\n",
    "\n"
   ]
  },
  {
   "cell_type": "code",
   "execution_count": null,
   "metadata": {},
   "outputs": [
    {
     "data": {
      "text/plain": [
       "array(['XMLRobertaBase', 'CroSloEngualBERT', 'SloBERTa', 'BERTic', 'BERT'],\n",
       "      dtype=object)"
      ]
     },
     "execution_count": 11,
     "metadata": {},
     "output_type": "execute_result"
    }
   ],
   "source": [
    "results_df.model.unique()"
   ]
  },
  {
   "cell_type": "code",
   "execution_count": null,
   "metadata": {},
   "outputs": [
    {
     "name": "stdout",
     "output_type": "stream",
     "text": [
      "Shape of the micro and macro scores for model 1:  (5,) (5,)\n",
      "Shape of the micro and macro scores for model 2:  (5,) (5,)\n",
      "MannWhithey p value for micro F1: 0.00596 \t\t(alternative hypothesis: first is greater than the second)\n",
      "Micros are statistically significantly different.\n",
      "MannWhithey p value for macro F1: 0.00609 \t\t(alternative hypothesis: first is greater than the second)\n",
      "Macros are statistically significantly different.\n",
      "Micro F1: Higher average: 0.5695, lower average: 0.4863\n",
      "Macro F1: Higher average: 0.5281, lower average: 0.4293\n"
     ]
    }
   ],
   "source": [
    "stat_signif(\"SloBERTa\",\"XMLRobertaBase\",results_df)"
   ]
  },
  {
   "cell_type": "code",
   "execution_count": null,
   "metadata": {},
   "outputs": [
    {
     "name": "stdout",
     "output_type": "stream",
     "text": [
      "Shape of the micro and macro scores for model 1:  (5,) (5,)\n",
      "Shape of the micro and macro scores for model 2:  (5,) (5,)\n",
      "MannWhithey p value for micro F1: 0.00571 \t\t(alternative hypothesis: first is greater than the second)\n",
      "Micros are statistically significantly different.\n",
      "MannWhithey p value for macro F1: 0.00609 \t\t(alternative hypothesis: first is greater than the second)\n",
      "Macros are statistically significantly different.\n",
      "Micro F1: Higher average: 0.5695, lower average: 0.5117\n",
      "Macro F1: Higher average: 0.5281, lower average: 0.4286\n"
     ]
    }
   ],
   "source": [
    "stat_signif(\"SloBERTa\",\"CroSloEngualBERT\",results_df)"
   ]
  },
  {
   "cell_type": "code",
   "execution_count": null,
   "metadata": {},
   "outputs": [
    {
     "name": "stdout",
     "output_type": "stream",
     "text": [
      "Shape of the micro and macro scores for model 1:  (5,) (5,)\n",
      "Shape of the micro and macro scores for model 2:  (5,) (5,)\n",
      "MannWhithey p value for micro F1: 0.978 \t\t(alternative hypothesis: first is greater than the second)\n",
      "There is no statistical significance in micro F1 results.\n",
      "MannWhithey p value for macro F1: 0.417 \t\t(alternative hypothesis: first is greater than the second)\n",
      "There is no statistical significance in macro F1 results.\n",
      "Micro F1: Higher average: 0.4863, lower average: 0.5117\n",
      "Macro F1: Higher average: 0.4293, lower average: 0.4286\n"
     ]
    }
   ],
   "source": [
    "stat_signif(\"XMLRobertaBase\",\"CroSloEngualBERT\",results_df)"
   ]
  },
  {
   "cell_type": "code",
   "execution_count": null,
   "metadata": {},
   "outputs": [
    {
     "name": "stdout",
     "output_type": "stream",
     "text": [
      "Shape of the micro and macro scores for model 1:  (5,) (5,)\n",
      "Shape of the micro and macro scores for model 2:  (5,) (5,)\n",
      "MannWhithey p value for micro F1: 0.124 \t\t(alternative hypothesis: first is greater than the second)\n",
      "There is no statistical significance in micro F1 results.\n",
      "MannWhithey p value for macro F1: 0.0184 \t\t(alternative hypothesis: first is greater than the second)\n",
      "Macros are statistically significantly different.\n",
      "Micro F1: Higher average: 0.4863, lower average: 0.4721\n",
      "Macro F1: Higher average: 0.4293, lower average: 0.3872\n"
     ]
    }
   ],
   "source": [
    "stat_signif(\"XMLRobertaBase\",\"BERTic\",results_df)"
   ]
  },
  {
   "cell_type": "code",
   "execution_count": null,
   "metadata": {},
   "outputs": [
    {
     "name": "stdout",
     "output_type": "stream",
     "text": [
      "Shape of the micro and macro scores for model 1:  (5,) (5,)\n",
      "Shape of the micro and macro scores for model 2:  (5,) (5,)\n",
      "MannWhithey p value for micro F1: 0.00751 \t\t(alternative hypothesis: first is greater than the second)\n",
      "Micros are statistically significantly different.\n",
      "MannWhithey p value for macro F1: 0.0301 \t\t(alternative hypothesis: first is greater than the second)\n",
      "Macros are statistically significantly different.\n",
      "Micro F1: Higher average: 0.5117, lower average: 0.4721\n",
      "Macro F1: Higher average: 0.4286, lower average: 0.3872\n"
     ]
    }
   ],
   "source": [
    "stat_signif(\"CroSloEngualBERT\",\"BERTic\",results_df)"
   ]
  },
  {
   "cell_type": "markdown",
   "metadata": {},
   "source": [
    "### Scatterplot for size and performance dependance"
   ]
  },
  {
   "cell_type": "code",
   "execution_count": null,
   "metadata": {},
   "outputs": [
    {
     "name": "stdout",
     "output_type": "stream",
     "text": [
      "[{'Model': 'XMLRobertaBase', 'Micro F1': '0.486', 'Micro STD': '0.025', 'Macro F1': '0.429', 'Macro STD': '0.024'}, {'Model': 'CroSloEngualBERT', 'Micro F1': '0.512', 'Micro STD': '0.0075', 'Macro F1': '0.429', 'Macro STD': '0.021'}, {'Model': 'SloBERTa', 'Micro F1': '0.57', 'Micro STD': '0.01', 'Macro F1': '0.528', 'Macro STD': '0.036'}, {'Model': 'BERTic', 'Micro F1': '0.472', 'Micro STD': '0.013', 'Macro F1': '0.387', 'Macro STD': '0.0095'}, {'Model': 'BERT', 'Micro F1': '0.256', 'Micro STD': '0.016', 'Macro F1': '0.203', 'Macro STD': '0.015'}]\n"
     ]
    }
   ],
   "source": [
    "print(mean_results_list)"
   ]
  },
  {
   "cell_type": "code",
   "execution_count": null,
   "metadata": {},
   "outputs": [],
   "source": [
    "results_reordered = [{'Model': 'SloBERTa', 'Micro F1': '0.57', 'Micro STD': '0.01', 'Macro F1': '0.528', 'Macro STD': '0.036'}, {'Model': 'XML-RoBERTa (base)', 'Micro F1': '0.486', 'Micro STD': '0.025', 'Macro F1': '0.429', 'Macro STD': '0.024'}, {'Model': 'CroSloEngual BERT', 'Micro F1': '0.512', 'Micro STD': '0.0075', 'Macro F1': '0.429', 'Macro STD': '0.021'}, {'Model': 'BERTić', 'Micro F1': '0.472', 'Micro STD': '0.013', 'Macro F1': '0.387', 'Macro STD': '0.0095'}, {'Model': 'BERT', 'Micro F1': '0.256', 'Micro STD': '0.016', 'Macro F1': '0.203', 'Macro STD': '0.015'}]"
   ]
  },
  {
   "cell_type": "code",
   "execution_count": null,
   "metadata": {},
   "outputs": [
    {
     "name": "stdout",
     "output_type": "stream",
     "text": [
      "['0.57', '0.486', '0.512', '0.472', '0.256'] ['0.528', '0.429', '0.429', '0.387', '0.203'] ['0.01', '0.025', '0.0075', '0.013', '0.016'] ['0.036', '0.024', '0.021', '0.0095', '0.015'] ['SloBERTa', 'XML-RoBERTa (base)', 'CroSloEngual BERT', 'BERTić', 'BERT']\n"
     ]
    }
   ],
   "source": [
    "micro_means = []\n",
    "macro_means = []\n",
    "micro_stds = []\n",
    "macro_stds = []\n",
    "\n",
    "model_name = []\n",
    "\n",
    "for i in results_reordered:\n",
    "    micro_means.append(i[\"Micro F1\"])\n",
    "    macro_means.append(i[\"Macro F1\"])\n",
    "    micro_stds.append(i[\"Micro STD\"])\n",
    "    macro_stds.append(i['Macro STD'])\n",
    "    model_name.append(i[\"Model\"])\n",
    "\n",
    "print(micro_means, macro_means, micro_stds, macro_stds, model_name)"
   ]
  },
  {
   "cell_type": "code",
   "execution_count": 112,
   "metadata": {},
   "outputs": [
    {
     "data": {
      "image/png": "[encoded data removed]",
      "text/plain": [
       "<Figure size 800x800 with 1 Axes>"
      ]
     },
     "metadata": {
      "needs_background": "light"
     },
     "output_type": "display_data"
    }
   ],
   "source": [
    "size_tokens = [3.47, 1.7, 1.36, 0.0, 0.0]\n",
    "\n",
    "fig, ax = plt.subplots(figsize=(4,4), dpi=200)\n",
    "ax.errorbar([3.47, 1.7, 1.36, 0.0], [0.57, 0.486, 0.512, 0.472], yerr=[0.01, 0.025, 0.0075, 0.013], label=\"Micro F1\", capsize=3)\n",
    "ax.errorbar([3.47, 1.7, 1.36, 0.0], [0.528, 0.429, 0.429, 0.387], yerr=[0.036, 0.024, 0.021, 0.0095], label=\"Macro F1\", capsize=3)\n",
    "plt.axis([-0.3,4,0.35,0.6])\n",
    "ax.set_xlabel('Slovene Pre-Training Data Size (B of tokens)')\n",
    "ax.set_ylabel('F1 Score')\n",
    "ax.annotate(f'SloBERTa   ', (3.47,0.57), ha='right', va='bottom', fontsize='x-small')\n",
    "ax.annotate(f'XML-RoBERTa\\n\\n\\n', (1.49,0.49), ha='left', va='bottom', fontsize='x-small')\n",
    "ax.annotate(f'CroSloEngual\\nBERT', (1.4,0.53), ha='right', va='bottom', fontsize='x-small')\n",
    "ax.annotate(f'BERTić', (0.3,0.49), ha='right', va='bottom', fontsize='x-small')\n",
    "ax.legend(loc=\"lower right\")\n",
    "#ax.set_xlabel(\"Impact of the Size of the Slovene Pre-Training Data on the Micro and Macro F1\")\n",
    "plt.savefig(\"C:/Users/kuzma/Google Drive/GitHub/task5_webgenres/plots/language_impact_scatterplot.png\")\n",
    "plt.show()\n",
    "\n"
   ]
  },
  {
   "cell_type": "markdown",
   "metadata": {},
   "source": [
    "### Plotting confusion matrices over all 5 runs"
   ]
  },
  {
   "cell_type": "code",
   "execution_count": null,
   "metadata": {},
   "outputs": [
    {
     "data": {
      "text/plain": [
       "21"
      ]
     },
     "execution_count": 17,
     "metadata": {},
     "output_type": "execute_result"
    }
   ],
   "source": [
    "LABELS = ['Information/Explanation','Research Article','Instruction','Recipe', 'Legal/Regulation','Call','Announcement','News/Reporting','Opinionated News','Opinion/Argumentation','Review','Promotion','Promotion of a Product','Promotion of Services','Invitation','Forum','Interview','Correspondence','Prose','List of Summaries/Excerpts','Other']\n",
    "\n",
    "len(LABELS)"
   ]
  },
  {
   "cell_type": "code",
   "execution_count": null,
   "metadata": {},
   "outputs": [],
   "source": [
    "# Get the y_true and y_pred labels for all 5 runs:\n",
    "\n",
    "def cm_over_5_runs(model_name):\n",
    "    '''\n",
    "    Takes the names of the model and the json file named \"content\" and prints out the confusion matrix for the model over all five runs.\n",
    "\n",
    "    Args:\n",
    "    model_name (str): the name of the model\n",
    "    '''\n",
    "    y_pred_all = []\n",
    "    y_true_all = []\n",
    "\n",
    "\n",
    "    for element in content:\n",
    "        if element[\"model\"] == model_name:\n",
    "            for i in element[\"y_true\"]:\n",
    "                y_true_all.append(i)\n",
    "            for i2 in element[\"y_pred\"]:\n",
    "                y_pred_all.append(i2)\n",
    "\n",
    "    print(f\"Number of all true labels: {len(y_true_all)}, Number of all predicted labels: {len(y_pred_all)}\")\n",
    "\n",
    "    cm = confusion_matrix(y_true_all, y_pred_all, labels=LABELS)\n",
    "    plt.figure(figsize=(9, 9))\n",
    "    plt.imshow(cm, cmap=\"Oranges\")\n",
    "    for (i, j), z in np.ndenumerate(cm):\n",
    "        plt.text(j, i, '{:d}'.format(z), ha='center', va='center')\n",
    "    classNames = LABELS\n",
    "    plt.ylabel('True label')\n",
    "    plt.xlabel('Predicted label')\n",
    "    tick_marks = np.arange(len(classNames))\n",
    "    plt.xticks(tick_marks, classNames, rotation=90)\n",
    "    plt.yticks(tick_marks, classNames)\n",
    "\n",
    "    fig1 = plt.gcf()\n",
    "    #plt.title(f\"Confusion Matrix for {model_name} over 5 Runs\")\n",
    "    image_title = f\"C:/Users/kuzma/Google Drive/GitHub/task5_webgenres/plots/Confusion_matrix-over-5-runs-{model_name}.png\"\n",
    "    plt.tight_layout()\n",
    "    plt.show()\n",
    "    plt.draw()\n",
    "    fig1.savefig(image_title, dpi=200)"
   ]
  },
  {
   "cell_type": "code",
   "execution_count": null,
   "metadata": {},
   "outputs": [
    {
     "data": {
      "text/plain": [
       "array(['XMLRobertaBase', 'CroSloEngualBERT', 'SloBERTa', 'BERTic', 'BERT'],\n",
       "      dtype=object)"
      ]
     },
     "execution_count": 19,
     "metadata": {},
     "output_type": "execute_result"
    }
   ],
   "source": [
    "results_df.model.unique()"
   ]
  },
  {
   "cell_type": "code",
   "execution_count": null,
   "metadata": {},
   "outputs": [
    {
     "name": "stdout",
     "output_type": "stream",
     "text": [
      "Number of all true labels: 985, Number of all predicted labels: 985\n"
     ]
    },
    {
     "data": {
      "image/png": "[encoded data removed]",
      "text/plain": [
       "<Figure size 648x648 with 1 Axes>"
      ]
     },
     "metadata": {
      "needs_background": "light"
     },
     "output_type": "display_data"
    },
    {
     "data": {
      "text/plain": [
       "<Figure size 432x288 with 0 Axes>"
      ]
     },
     "metadata": {},
     "output_type": "display_data"
    }
   ],
   "source": [
    "    cm_over_5_runs(\"SloBERTa\")"
   ]
  },
  {
   "cell_type": "markdown",
   "metadata": {},
   "source": [
    "## Size Impact"
   ]
  },
  {
   "cell_type": "code",
   "execution_count": 102,
   "metadata": {},
   "outputs": [
    {
     "data": {
      "text/html": [
       "<div>\n",
       "<style scoped>\n",
       "    .dataframe tbody tr th:only-of-type {\n",
       "        vertical-align: middle;\n",
       "    }\n",
       "\n",
       "    .dataframe tbody tr th {\n",
       "        vertical-align: top;\n",
       "    }\n",
       "\n",
       "    .dataframe thead th {\n",
       "        text-align: right;\n",
       "    }\n",
       "</style>\n",
       "<table border=\"1\" class=\"dataframe\">\n",
       "  <thead>\n",
       "    <tr style=\"text-align: right;\">\n",
       "      <th></th>\n",
       "      <th>Run</th>\n",
       "      <th>microF1</th>\n",
       "      <th>macroF1</th>\n",
       "      <th>y_true</th>\n",
       "      <th>y_pred</th>\n",
       "      <th>run</th>\n",
       "      <th>model</th>\n",
       "    </tr>\n",
       "  </thead>\n",
       "  <tbody>\n",
       "    <tr>\n",
       "      <th>0</th>\n",
       "      <td>XMLRobertaLarge_run_1</td>\n",
       "      <td>0.619289</td>\n",
       "      <td>0.600262</td>\n",
       "      <td>[News/Reporting, Opinionated News, Invitation,...</td>\n",
       "      <td>[Opinionated News, News/Reporting, Invitation,...</td>\n",
       "      <td>1</td>\n",
       "      <td>XMLRobertaLarge</td>\n",
       "    </tr>\n",
       "    <tr>\n",
       "      <th>1</th>\n",
       "      <td>XMLRobertaLarge_run_2</td>\n",
       "      <td>0.593909</td>\n",
       "      <td>0.589274</td>\n",
       "      <td>[News/Reporting, Opinionated News, Invitation,...</td>\n",
       "      <td>[Opinionated News, List of Summaries/Excerpts,...</td>\n",
       "      <td>2</td>\n",
       "      <td>XMLRobertaLarge</td>\n",
       "    </tr>\n",
       "    <tr>\n",
       "      <th>2</th>\n",
       "      <td>XMLRobertaLarge_run_3</td>\n",
       "      <td>0.548223</td>\n",
       "      <td>0.540327</td>\n",
       "      <td>[News/Reporting, Opinionated News, Invitation,...</td>\n",
       "      <td>[Opinionated News, List of Summaries/Excerpts,...</td>\n",
       "      <td>3</td>\n",
       "      <td>XMLRobertaLarge</td>\n",
       "    </tr>\n",
       "    <tr>\n",
       "      <th>3</th>\n",
       "      <td>XMLRobertaLarge_run_4</td>\n",
       "      <td>0.578680</td>\n",
       "      <td>0.506542</td>\n",
       "      <td>[News/Reporting, Opinionated News, Invitation,...</td>\n",
       "      <td>[Opinionated News, News/Reporting, Invitation,...</td>\n",
       "      <td>4</td>\n",
       "      <td>XMLRobertaLarge</td>\n",
       "    </tr>\n",
       "    <tr>\n",
       "      <th>4</th>\n",
       "      <td>XMLRobertaLarge_run_5</td>\n",
       "      <td>0.553299</td>\n",
       "      <td>0.546443</td>\n",
       "      <td>[News/Reporting, Opinionated News, Invitation,...</td>\n",
       "      <td>[Opinionated News, News/Reporting, Invitation,...</td>\n",
       "      <td>5</td>\n",
       "      <td>XMLRobertaLarge</td>\n",
       "    </tr>\n",
       "  </tbody>\n",
       "</table>\n",
       "</div>"
      ],
      "text/plain": [
       "                     Run   microF1   macroF1  \\\n",
       "0  XMLRobertaLarge_run_1  0.619289  0.600262   \n",
       "1  XMLRobertaLarge_run_2  0.593909  0.589274   \n",
       "2  XMLRobertaLarge_run_3  0.548223  0.540327   \n",
       "3  XMLRobertaLarge_run_4  0.578680  0.506542   \n",
       "4  XMLRobertaLarge_run_5  0.553299  0.546443   \n",
       "\n",
       "                                              y_true  \\\n",
       "0  [News/Reporting, Opinionated News, Invitation,...   \n",
       "1  [News/Reporting, Opinionated News, Invitation,...   \n",
       "2  [News/Reporting, Opinionated News, Invitation,...   \n",
       "3  [News/Reporting, Opinionated News, Invitation,...   \n",
       "4  [News/Reporting, Opinionated News, Invitation,...   \n",
       "\n",
       "                                              y_pred  run            model  \n",
       "0  [Opinionated News, News/Reporting, Invitation,...    1  XMLRobertaLarge  \n",
       "1  [Opinionated News, List of Summaries/Excerpts,...    2  XMLRobertaLarge  \n",
       "2  [Opinionated News, List of Summaries/Excerpts,...    3  XMLRobertaLarge  \n",
       "3  [Opinionated News, News/Reporting, Invitation,...    4  XMLRobertaLarge  \n",
       "4  [Opinionated News, News/Reporting, Invitation,...    5  XMLRobertaLarge  "
      ]
     },
     "execution_count": 102,
     "metadata": {},
     "output_type": "execute_result"
    }
   ],
   "source": [
    "# Import the JSON file with the results log and open it as dataframe\n",
    "with open(\"Size-results-log.json\") as f:\n",
    "    size_content = json.load(f)\n",
    "\n",
    "jsonlike_size_content = dict()\n",
    "\n",
    "for key in size_content[0].keys():\n",
    "    jsonlike_size_content[key] = [i[key] for i in size_content]\n",
    "\n",
    "size_results_df = pd.DataFrame(data = jsonlike_size_content)\n",
    "\n",
    "size_results_df.head()"
   ]
  },
  {
   "cell_type": "code",
   "execution_count": 103,
   "metadata": {},
   "outputs": [
    {
     "data": {
      "text/plain": [
       "(10, 7)"
      ]
     },
     "execution_count": 103,
     "metadata": {},
     "output_type": "execute_result"
    }
   ],
   "source": [
    "size_results_df.shape"
   ]
  },
  {
   "cell_type": "code",
   "execution_count": 104,
   "metadata": {},
   "outputs": [
    {
     "data": {
      "text/plain": [
       "array(['XMLRobertaLarge', 'XMLRobertaBase'], dtype=object)"
      ]
     },
     "execution_count": 104,
     "metadata": {},
     "output_type": "execute_result"
    }
   ],
   "source": [
    "size_results_df.model.unique()"
   ]
  },
  {
   "cell_type": "code",
   "execution_count": 105,
   "metadata": {},
   "outputs": [
    {
     "name": "stdout",
     "output_type": "stream",
     "text": [
      "\n",
      "Model & Micro F1 & Macro F1\\\n",
      "XMLRobertaLarge, micro F1: [0.61928934 0.59390863 0.54822335 0.5786802  0.55329949], macro F1: [0.60026198 0.58927398 0.54032743 0.50654182 0.54644265]\n",
      "XMLRobertaLarge & 0.579 $\\pm$ 0.03 & 0.557 $\\pm$ 0.03\\\n",
      "XMLRobertaBase, micro F1: [0.47715736 0.51269036 0.50253807 0.49746193 0.44162437], macro F1: [0.40976979 0.43758628 0.45818993 0.44774551 0.39303668]\n",
      "XMLRobertaBase & 0.486 $\\pm$ 0.03 & 0.429 $\\pm$ 0.02\\\n"
     ]
    }
   ],
   "source": [
    "size_results_list = []\n",
    "\n",
    "print(\"\"\"\n",
    "Model & Micro F1 & Macro F1\\\\\"\"\")\n",
    "\n",
    "for i in size_results_df.model.unique().tolist():\n",
    "        size_results_list.append(calculate_mean_std(i,size_results_df))"
   ]
  },
  {
   "cell_type": "code",
   "execution_count": 106,
   "metadata": {},
   "outputs": [
    {
     "name": "stdout",
     "output_type": "stream",
     "text": [
      "Shape of the micro and macro scores for model 1:  (5,) (5,)\n",
      "Shape of the micro and macro scores for model 2:  (5,) (5,)\n",
      "MannWhithey p value for micro F1: 0.00609 \t\t(alternative hypothesis: first is greater than the second)\n",
      "Micros are statistically significantly different.\n",
      "MannWhithey p value for macro F1: 0.00609 \t\t(alternative hypothesis: first is greater than the second)\n",
      "Macros are statistically significantly different.\n",
      "Micro F1: Higher average: 0.5787, lower average: 0.4863\n",
      "Macro F1: Higher average: 0.5566, lower average: 0.4293\n"
     ]
    }
   ],
   "source": [
    "# Calculating statistical significance\n",
    "\n",
    "c1 = size_results_df.model == \"XMLRobertaLarge\"\n",
    "c2 = size_results_df.model == 'XMLRobertaBase'\n",
    "\n",
    "    #Candidate:\n",
    "highermi = size_results_df.loc[c1, \"microF1\"][0:5]\n",
    "higherma = size_results_df.loc[c1, \"macroF1\"][0:5]\n",
    "    #Alternative\n",
    "lowermi = size_results_df.loc[c2, \"microF1\"][0:5]\n",
    "lowerma = size_results_df.loc[c2, \"macroF1\"][0:5]\n",
    "\n",
    "print(\"Shape of the micro and macro scores for model 1: \",highermi.shape,higherma.shape)\n",
    "print(\"Shape of the micro and macro scores for model 2: \", lowermi.shape, lowerma.shape)\n",
    "\n",
    "p_mi = stats.mannwhitneyu(highermi,lowermi, alternative='greater')[1]\n",
    "p_ma = stats.mannwhitneyu(higherma,lowerma, alternative='greater')[1]\n",
    "\n",
    "print(f\"MannWhithey p value for micro F1: {stats.mannwhitneyu(highermi,lowermi, alternative='greater')[1]:0.3}\", \"\\t\\t(alternative hypothesis: first is greater than the second)\")\n",
    "\n",
    "if p_mi < 0.05:\n",
    "    print(\"Micros are statistically significantly different.\")\n",
    "else:\n",
    "    print(\"There is no statistical significance in micro F1 results.\")\n",
    "\n",
    "print(f\"MannWhithey p value for macro F1: {stats.mannwhitneyu(higherma,lowerma, alternative='greater')[1]:0.3}\", \"\\t\\t(alternative hypothesis: first is greater than the second)\")\n",
    "\n",
    "if p_ma < 0.05:\n",
    "        print(\"Macros are statistically significantly different.\")\n",
    "else:\n",
    "        print(\"There is no statistical significance in macro F1 results.\")\n",
    "\n",
    "    #print(f\"Student p value: {stats.ttest_ind(higher,lower)[1]:0.3}\", \"\\t\\t(null hypothesis: samples have identical average, equal variance is assumed but not necessary)\")\n",
    "\n",
    "print(f\"Micro F1: Higher average: {np.mean(highermi):0.4}, lower average: {np.mean(lowermi):0.4}\")\n",
    "\n",
    "print(f\"Macro F1: Higher average: {np.mean(higherma):0.4}, lower average: {np.mean(lowerma):0.4}\")"
   ]
  },
  {
   "cell_type": "code",
   "execution_count": 109,
   "metadata": {},
   "outputs": [
    {
     "name": "stdout",
     "output_type": "stream",
     "text": [
      "Shape of the micro and macro scores for model 1:  (5,) (5,)\n",
      "Shape of the micro and macro scores for model 2:  (5,) (5,)\n",
      "MannWhithey p value for micro F1: 0.376 \t\t(alternative hypothesis: first is greater than the second)\n",
      "There is no statistical significance in micro F1 results.\n",
      "MannWhithey p value for macro F1: 0.148 \t\t(alternative hypothesis: first is greater than the second)\n",
      "There is no statistical significance in macro F1 results.\n",
      "Micro F1: Higher average: 0.5787, lower average: 0.5695\n",
      "Macro F1: Higher average: 0.5566, lower average: 0.5281\n"
     ]
    }
   ],
   "source": [
    "# Calculating statistical significance of XMLRoberta Large and SloBERTa\n",
    "\n",
    "c1 = size_results_df.model == \"XMLRobertaLarge\"\n",
    "c2 = results_df.model == 'SloBERTa'\n",
    "\n",
    "    #Candidate:\n",
    "highermi = size_results_df.loc[c1, \"microF1\"][0:5]\n",
    "higherma = size_results_df.loc[c1, \"macroF1\"][0:5]\n",
    "    #Alternative\n",
    "lowermi = results_df.loc[c2, \"microF1\"][0:5]\n",
    "lowerma = results_df.loc[c2, \"macroF1\"][0:5]\n",
    "\n",
    "print(\"Shape of the micro and macro scores for model 1: \",highermi.shape,higherma.shape)\n",
    "print(\"Shape of the micro and macro scores for model 2: \", lowermi.shape, lowerma.shape)\n",
    "\n",
    "p_mi = stats.mannwhitneyu(highermi,lowermi, alternative='greater')[1]\n",
    "p_ma = stats.mannwhitneyu(higherma,lowerma, alternative='greater')[1]\n",
    "\n",
    "print(f\"MannWhithey p value for micro F1: {stats.mannwhitneyu(highermi,lowermi, alternative='greater')[1]:0.3}\", \"\\t\\t(alternative hypothesis: first is greater than the second)\")\n",
    "\n",
    "if p_mi < 0.05:\n",
    "    print(\"Micros are statistically significantly different.\")\n",
    "else:\n",
    "    print(\"There is no statistical significance in micro F1 results.\")\n",
    "\n",
    "print(f\"MannWhithey p value for macro F1: {stats.mannwhitneyu(higherma,lowerma, alternative='greater')[1]:0.3}\", \"\\t\\t(alternative hypothesis: first is greater than the second)\")\n",
    "\n",
    "if p_ma < 0.05:\n",
    "        print(\"Macros are statistically significantly different.\")\n",
    "else:\n",
    "        print(\"There is no statistical significance in macro F1 results.\")\n",
    "\n",
    "    #print(f\"Student p value: {stats.ttest_ind(higher,lower)[1]:0.3}\", \"\\t\\t(null hypothesis: samples have identical average, equal variance is assumed but not necessary)\")\n",
    "\n",
    "print(f\"Micro F1: Higher average: {np.mean(highermi):0.4}, lower average: {np.mean(lowermi):0.4}\")\n",
    "\n",
    "print(f\"Macro F1: Higher average: {np.mean(higherma):0.4}, lower average: {np.mean(lowerma):0.4}\")"
   ]
  },
  {
   "cell_type": "code",
   "execution_count": null,
   "metadata": {},
   "outputs": [
    {
     "data": {
      "text/plain": [
       "[{'Model': 'XMLRobertaLarge',\n",
       "  'Micro F1': '0.579',\n",
       "  'Micro STD': '0.026',\n",
       "  'Macro F1': '0.557',\n",
       "  'Macro STD': '0.034'},\n",
       " {'Model': 'XMLRobertaBase',\n",
       "  'Micro F1': '0.486',\n",
       "  'Micro STD': '0.025',\n",
       "  'Macro F1': '0.429',\n",
       "  'Macro STD': '0.024'}]"
      ]
     },
     "execution_count": 33,
     "metadata": {},
     "output_type": "execute_result"
    }
   ],
   "source": [
    "size_results_list"
   ]
  },
  {
   "cell_type": "markdown",
   "metadata": {},
   "source": [
    "### Scatterplot for micro and macro F1"
   ]
  },
  {
   "cell_type": "code",
   "execution_count": 113,
   "metadata": {},
   "outputs": [
    {
     "data": {
      "image/png": "[encoded data removed]",
      "text/plain": [
       "<Figure size 800x800 with 1 Axes>"
      ]
     },
     "metadata": {
      "needs_background": "light"
     },
     "output_type": "display_data"
    }
   ],
   "source": [
    "micro_means = [0.486,0.579]\n",
    "macro_means = [0.429,0.557]\n",
    "micro_stds = [0.025,0.026]\n",
    "macro_stds = [0.024,0.034]\n",
    "\n",
    "fig, ax = plt.subplots(figsize=(4,4), dpi=200)\n",
    "ax.errorbar([\"Base-Sized\", \"Large-Sized\"], micro_means, yerr=micro_stds, label=\"Micro F1\", capsize=3)\n",
    "ax.errorbar([\"Base-Sized\", \"Large-Sized\"], macro_means, yerr=macro_stds, label=\"Macro F1\", capsize=3)\n",
    "ax.annotate(f'   {micro_means[0]}', (\"Base-Sized\",micro_means[0]), ha='left', va='top', fontsize='x-small')\n",
    "ax.annotate(f'   {macro_means[0]}', (\"Base-Sized\",macro_means[0]), ha='left', va='top', fontsize='x-small')\n",
    "ax.annotate(f'\\n\\n{micro_means[1]}   ', (\"Large-Sized\",micro_means[1]), ha='right', va='bottom', fontsize='x-small')\n",
    "ax.annotate(f'\\n\\n{macro_means[1]} ', (\"Large-Sized\",macro_means[1]), ha='right', va='top', fontsize='x-small')\n",
    "ax.legend(loc=\"lower right\")\n",
    "ax.set_ylabel('F1 Score')\n",
    "#ax.set_xlabel(\"Impact of the Model Size\")\n",
    "plt.savefig(\"C:/Users/kuzma/Google Drive/GitHub/task5_webgenres/plots/size_scatterplot.png\")\n",
    "plt.show()\n"
   ]
  },
  {
   "cell_type": "code",
   "execution_count": null,
   "metadata": {},
   "outputs": [],
   "source": []
  }
 ],
 "metadata": {
  "interpreter": {
   "hash": "15bcfae0289f7027b7d9cc857dcda33095e786c28b8ed9f6390564d089cc9131"
  },
  "kernelspec": {
   "display_name": "Python 3.8.8 64-bit ('base': conda)",
   "language": "python",
   "name": "python3"
  },
  "language_info": {
   "codemirror_mode": {
    "name": "ipython",
    "version": 3
   },
   "file_extension": ".py",
   "mimetype": "text/x-python",
   "name": "python",
   "nbconvert_exporter": "python",
   "pygments_lexer": "ipython3",
   "version": "3.8.8"
  },
  "orig_nbformat": 4
 },
 "nbformat": 4,
 "nbformat_minor": 2
}
