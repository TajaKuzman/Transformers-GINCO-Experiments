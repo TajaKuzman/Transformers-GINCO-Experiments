{
 "cells": [
  {
   "cell_type": "code",
   "execution_count": 4,
   "metadata": {},
   "outputs": [],
   "source": [
    "\n",
    "size = [{\"id\":\"SLOBERTA\",\n",
    "  \"hidden_size\": 768,\n",
    "   \"intermediate_size\": 3072,\n",
    "   \"max_position_embeddings\": 514,\n",
    "  \"model_type\": \"camembert\",\n",
    "  \"num_attention_heads\": 12,\n",
    "  \"num_hidden_layers\": 12,\n",
    "  \"vocab_size\": 32005\n",
    "},\n",
    "{\"id\":\"CroSloEngBERT\",\n",
    "  \"attention_probs_dropout_prob\": 0.1,\n",
    "  \"hidden_act\": \"gelu\",\n",
    "  \"hidden_dropout_prob\": 0.1,\n",
    "  \"hidden_size\": 768,\n",
    "  \"initializer_range\": 0.02,\n",
    "  \"intermediate_size\": 3072,\n",
    "  \"layer_norm_eps\": 1e-12,\n",
    "  \"max_position_embeddings\": 512,\n",
    "  \"model_type\": \"bert\",\n",
    "  \"num_attention_heads\": 12,\n",
    "  \"num_hidden_layers\": 12,\n",
    "  \"pad_token_id\": 0,\n",
    "  \"type_vocab_size\": 2,\n",
    "  \"vocab_size\": 49601\n",
    "},\n",
    "{\"id\":\"BERTić\",\n",
    "  \"attention_probs_dropout_prob\": 0.1,\n",
    "  \"embedding_size\": 768,\n",
    "  \"hidden_act\": \"gelu\",\n",
    "  \"hidden_dropout_prob\": 0.1,\n",
    "  \"hidden_size\": 768,\n",
    "  \"initializer_range\": 0.02,\n",
    "  \"intermediate_size\": 3072,\n",
    "  \"layer_norm_eps\": 1e-12,\n",
    "  \"max_position_embeddings\": 512,\n",
    "  \"model_type\": \"electra\",\n",
    "  \"num_attention_heads\": 12,\n",
    "  \"num_hidden_layers\": 12,\n",
    "  \"pad_token_id\": 0,\n",
    "  \"type_vocab_size\": 2,\n",
    "  \"vocab_size\": 32000\n",
    "},\n",
    "{       \"id\":\"mDeBERTaV3\",\n",
    "\t\t\"model_type\": \"deberta-v2\",\n",
    "\t\t\"attention_probs_dropout_prob\": 0.1,\n",
    "\t\t\"hidden_act\": \"gelu\",\n",
    "\t\t\"hidden_dropout_prob\": 0.1,\n",
    "\t\t\"hidden_size\": 768,\n",
    "\t\t\"initializer_range\": 0.02,\n",
    "\t\t\"intermediate_size\": 3072,\n",
    "\t\t\"max_position_embeddings\": 512,\n",
    "\t\t\"relative_attention\": True,\n",
    "\t\t\"position_buckets\": 256,\n",
    "\t\t\"norm_rel_ebd\": \"layer_norm\",\n",
    "\t\t\"share_att_key\": True,\n",
    "\t\t\"pos_att_type\": \"p2c|c2p\",\n",
    "\t\t\"layer_norm_eps\": 1e-7,\n",
    "\t\t\"max_relative_positions\": -1,\n",
    "\t\t\"position_biased_input\": False,\n",
    "\t\t\"num_attention_heads\": 12,\n",
    "\t\t\"num_hidden_layers\": 12,\n",
    "\t\t\"type_vocab_size\": 0,\n",
    "\t\t\"vocab_size\": 251000\n",
    "},\n",
    "{   \"id\":\"BERT\",\n",
    "  \"attention_probs_dropout_prob\": 0.1,\n",
    "  \"gradient_checkpointing\": False,\n",
    "  \"hidden_act\": \"gelu\",\n",
    "  \"hidden_dropout_prob\": 0.1,\n",
    "  \"hidden_size\": 768,\n",
    "  \"initializer_range\": 0.02,\n",
    "  \"intermediate_size\": 3072,\n",
    "  \"layer_norm_eps\": 1e-12,\n",
    "  \"max_position_embeddings\": 512,\n",
    "  \"model_type\": \"bert\",\n",
    "  \"num_attention_heads\": 12,\n",
    "  \"num_hidden_layers\": 12,\n",
    "  \"pad_token_id\": 0,\n",
    "  \"position_embedding_type\": \"absolute\",\n",
    "  \"transformers_version\": \"4.6.0.dev0\",\n",
    "  \"type_vocab_size\": 2,\n",
    "  \"use_cache\": True,\n",
    "  \"vocab_size\": 28996\n",
    "}]\n"
   ]
  },
  {
   "cell_type": "markdown",
   "metadata": {},
   "source": [
    "\"hidden_size\": 768,\n",
    "   \"intermediate_size\": 3072,\n",
    "   \"max_position_embeddings\": 514,\n",
    "  \"model_type\": \"camembert\",\n",
    "  \"num_attention_heads\": 12,\n",
    "  \"num_hidden_layers\": 12,\n",
    "  \"vocab_size\": 32005"
   ]
  },
  {
   "cell_type": "code",
   "execution_count": 16,
   "metadata": {},
   "outputs": [
    {
     "name": "stdout",
     "output_type": "stream",
     "text": [
      "SLOBERTA 32005\n",
      "CroSloEngBERT 49601\n",
      "BERTić 32000\n",
      "mDeBERTaV3 251000\n",
      "BERT 28996\n"
     ]
    }
   ],
   "source": [
    "for i in size:\n",
    "    print(i[\"id\"],i[\"vocab_size\"])"
   ]
  },
  {
   "cell_type": "code",
   "execution_count": null,
   "metadata": {},
   "outputs": [],
   "source": []
  }
 ],
 "metadata": {
  "interpreter": {
   "hash": "15bcfae0289f7027b7d9cc857dcda33095e786c28b8ed9f6390564d089cc9131"
  },
  "kernelspec": {
   "display_name": "Python 3.8.8 64-bit ('base': conda)",
   "language": "python",
   "name": "python3"
  },
  "language_info": {
   "codemirror_mode": {
    "name": "ipython",
    "version": 3
   },
   "file_extension": ".py",
   "mimetype": "text/x-python",
   "name": "python",
   "nbconvert_exporter": "python",
   "pygments_lexer": "ipython3",
   "version": "3.8.8"
  },
  "orig_nbformat": 4
 },
 "nbformat": 4,
 "nbformat_minor": 2
}
